{
 "cells": [
  {
   "cell_type": "markdown",
   "metadata": {},
   "source": [
    "## Libraries"
   ]
  },
  {
   "cell_type": "code",
   "execution_count": 1,
   "metadata": {},
   "outputs": [
    {
     "name": "stderr",
     "output_type": "stream",
     "text": [
      "\n",
      "Bad key \"text.kerning_factor\" on line 4 in\n",
      "/Users/digvijayghotane/anaconda3/lib/python3.7/site-packages/matplotlib/mpl-data/stylelib/_classic_test_patch.mplstyle.\n",
      "You probably need to get an updated matplotlibrc file from\n",
      "http://github.com/matplotlib/matplotlib/blob/master/matplotlibrc.template\n",
      "or from the matplotlib source distribution\n"
     ]
    }
   ],
   "source": [
    "import pandas as pd\n",
    "import numpy as np\n",
    "import os\n",
    "import stargazer\n",
    "import matplotlib.pyplot as plt\n",
    "import seaborn as sns\n",
    "from scipy import stats\n",
    "import statsmodels.formula.api as smf\n",
    "from sklearn.preprocessing import LabelEncoder\n",
    "from sklearn.model_selection import cross_val_score, validation_curve, learning_curve, train_test_split\n",
    "from sklearn.metrics import roc_curve, auc\n",
    "from sklearn.neighbors import KNeighborsRegressor\n",
    "from sklearn import metrics\n",
    "import seaborn as sns\n",
    "import graphviz\n",
    "from sklearn import tree\n",
    "from sklearn.ensemble import RandomForestClassifier\n",
    "from sklearn.tree import DecisionTreeClassifier"
   ]
  },
  {
   "cell_type": "markdown",
   "metadata": {},
   "source": [
    "## Loading in GTD Data"
   ]
  },
  {
   "cell_type": "code",
   "execution_count": 2,
   "metadata": {},
   "outputs": [],
   "source": [
    "#gtd = pd.read_excel('GTD/gtd.xlsx')\n",
    "#gtd = gtd.loc[gtd['country_txt'].isin(['Afghanistan', 'Iraq', 'Syria', 'Georgia', 'Ukraine'])]\n",
    "#gtd.to_csv('GTD/invasion_gtd.csv', index=False)"
   ]
  },
  {
   "cell_type": "markdown",
   "metadata": {},
   "source": [
    "I'm using the Global Terrorism Dataset maintained by START by University of Maryland. This dataset only has non-state acts of terrorism. I've subsetted the dataset into two parts, one for invasions by the United States of America in Afghanistan and Iraq, and their involvement in Yemen and Syria, and the second part for invasions by Russian Federation in Ukraine and Georgia and their involvement in Syria."
   ]
  },
  {
   "cell_type": "code",
   "execution_count": 3,
   "metadata": {
    "scrolled": true
   },
   "outputs": [
    {
     "name": "stderr",
     "output_type": "stream",
     "text": [
      "/Users/digvijayghotane/anaconda3/lib/python3.7/site-packages/IPython/core/interactiveshell.py:3063: DtypeWarning: Columns (61,62,63,79,94,96,114,115,121) have mixed types.Specify dtype option on import or set low_memory=False.\n",
      "  interactivity=interactivity, compiler=compiler, result=result)\n"
     ]
    }
   ],
   "source": [
    "gtd = pd.read_csv('GTD/invasion_gtd.csv')"
   ]
  },
  {
   "cell_type": "markdown",
   "metadata": {},
   "source": [
    "This data also contains certain observations that may increase variance in our certainty to answer the question of whether interventions do lead to an increase in extremism or not, so I want to drop them. We also drop all other unnecessary columns.\n",
    "I drop all observations where it may doubt terrorism since the actor may be a state actor (_alternative_ = 5)  since we only want non-state actors.\n",
    "Also, substitute unknown encoded as '-99' or '-9' to NaNs.\n",
    "Also replaced unknown days (iday = 0) with 1's so assumed that event takes place at the first of that month."
   ]
  },
  {
   "cell_type": "code",
   "execution_count": 4,
   "metadata": {},
   "outputs": [],
   "source": [
    "gtd = gtd[gtd['alternative'] != 5]\n",
    "\n",
    "gtd = gtd[gtd['iyear'] > 1995]\n",
    "\n",
    "gtd = gtd.replace(-99,np.nan)\n",
    "gtd = gtd.replace(-9,np.nan)\n",
    "\n",
    "gtd['iday'] = gtd['iday'].replace(0,1)\n",
    "\n",
    "gtd['date'] = gtd['iyear'].astype(str) + \"-\" + gtd['imonth'].astype(str) + \"-\" + gtd[\"iday\"].astype(str)\n",
    "gtd['date'] = pd.to_datetime(gtd['date'])\n",
    "\n",
    "gtd['no_of_events'] = 1 ## Setting up counter to count no. of events per day/month/year\n",
    "\n",
    "gtd = gtd[['iyear', 'imonth', 'iday', 'date', 'country', 'country_txt', 'region', 'region_txt', 'provstate', 'city', 'latitude', 'longitude', 'attacktype1_txt', 'weaptype1_txt', 'targtype1_txt', 'corp1', 'gname', 'nperps', 'guncertain1', 'nkill', 'nkillus', 'nkillter', 'nwound', 'nwoundus', 'nwoundte', 'property', 'propextent_txt', 'propvalue', 'ransompaidus', 'no_of_events']].reset_index(drop=True)\n",
    "\n",
    "gtd_class = gtd ## Storing in another variable for future use."
   ]
  },
  {
   "cell_type": "markdown",
   "metadata": {},
   "source": [
    "## Finding no. of events by day"
   ]
  },
  {
   "cell_type": "code",
   "execution_count": 5,
   "metadata": {},
   "outputs": [],
   "source": [
    "gtd = gtd.groupby(['iyear','imonth','iday', 'country_txt']).sum().reset_index()\n",
    "gtd['date'] = gtd['iyear'].astype(str) + \"-\" + gtd['imonth'].astype(str) + \"-\" + gtd[\"iday\"].astype(str)\n",
    "gtd['date'] = pd.to_datetime(gtd['date'])\n",
    "gtd = gtd[['country_txt', 'date', 'no_of_events']]\n",
    "gtd.columns = ['country', 'date', 'no_of_events']"
   ]
  },
  {
   "cell_type": "markdown",
   "metadata": {},
   "source": [
    "## Subsetting GTD by country"
   ]
  },
  {
   "cell_type": "code",
   "execution_count": 6,
   "metadata": {},
   "outputs": [],
   "source": [
    "syria = gtd[gtd.country == 'Syria'].reset_index(drop = True)\n",
    "afg = gtd[gtd.country == 'Afghanistan'].reset_index(drop = True)\n",
    "iraq = gtd[gtd.country == 'Iraq'].reset_index(drop = True)\n",
    "ukraine = gtd[gtd.country == 'Ukraine'].reset_index(drop = True)\n",
    "georgia = gtd[gtd.country == 'Georgia'].reset_index(drop = True)"
   ]
  },
  {
   "cell_type": "markdown",
   "metadata": {},
   "source": [
    "Invasion in Afghanistan by the US: https://www.cfr.org/timeline/us-war-afghanistan"
   ]
  },
  {
   "cell_type": "markdown",
   "metadata": {},
   "source": [
    "## Subsetting by date\n",
    "\n",
    "Also adding a dummy variable \"invasion\" to countries that do not need addition of data"
   ]
  },
  {
   "cell_type": "code",
   "execution_count": 7,
   "metadata": {},
   "outputs": [],
   "source": [
    "afg = afg[(afg.date > pd.to_datetime('1996-12-31')) & (afg.date < pd.to_datetime('2006-01-01'))] #Subsetting observations until 2005"
   ]
  },
  {
   "cell_type": "code",
   "execution_count": 8,
   "metadata": {},
   "outputs": [],
   "source": [
    "iraq['invasion'] = np.where((iraq.date >= pd.to_datetime('2003-03-19')), 1, 0) ## Iraq Invasion with 1 day buffer\n",
    "iraq = iraq[(iraq.date < pd.to_datetime('2008-01-01')) & (iraq.date > pd.to_datetime('1997-12-31'))].reset_index(drop = True) #Subsetting observations from 1998 to 2008"
   ]
  },
  {
   "cell_type": "code",
   "execution_count": 9,
   "metadata": {},
   "outputs": [],
   "source": [
    "ukraine['invasion'] = np.where((ukraine.date >= pd.to_datetime('2014-08-27')), 1, 0) ## Crimean Invasion with 1 day buffer\n",
    "ukraine = ukraine[(ukraine.date < pd.to_datetime('2019-01-01')) & (ukraine.date > pd.to_datetime('2009-12-31'))].reset_index(drop = True)"
   ]
  },
  {
   "cell_type": "code",
   "execution_count": 10,
   "metadata": {},
   "outputs": [],
   "source": [
    "#georgia['invasion'] = np.where((georgia.date >= pd.to_datetime('2008-08-08')), 1, 0) ## Russo-Georgia war with 1 day buffer\n",
    "georgia = georgia[(georgia.date < pd.to_datetime('2014-01-01')) & (georgia.date > pd.to_datetime('2003-12-31'))].reset_index(drop = True)"
   ]
  },
  {
   "cell_type": "code",
   "execution_count": 11,
   "metadata": {},
   "outputs": [],
   "source": [
    "syria['invasion_us'] = np.where((syria.date >= pd.to_datetime('2014-09-22')), 1, 0) ## US intervention in Syria\n",
    "syria['invasion_ru'] = np.where((syria.date >= pd.to_datetime('2015-09-30')), 1, 0) ## Russian intervention in Syria\n",
    "syria = syria[(syria.date < pd.to_datetime('2019-01-01')) & (syria.date > pd.to_datetime('2009-12-31'))].reset_index(drop = True)"
   ]
  },
  {
   "cell_type": "code",
   "execution_count": 12,
   "metadata": {},
   "outputs": [
    {
     "name": "stdout",
     "output_type": "stream",
     "text": [
      "Observations for Syria: 1144\n",
      "Observations for Afghanistan: 339\n",
      "Observations for Iraq: 1048\n",
      "Observations for Ukraine: 585\n",
      "Observations for Georgia: 71\n"
     ]
    }
   ],
   "source": [
    "print(\"Observations for Syria:\", syria.shape[0])\n",
    "print(\"Observations for Afghanistan:\", afg.shape[0])\n",
    "print(\"Observations for Iraq:\", iraq.shape[0])\n",
    "print(\"Observations for Ukraine:\", ukraine.shape[0])\n",
    "print(\"Observations for Georgia:\", georgia.shape[0])"
   ]
  },
  {
   "cell_type": "markdown",
   "metadata": {},
   "source": [
    "There are very few observations for Afghanistan and Georgia so I'm going to add the GED/UCDP dataset to it for the purposes of analysis."
   ]
  },
  {
   "cell_type": "markdown",
   "metadata": {},
   "source": [
    "## Reading in GED data\n",
    "For Afghanistan and Georgia"
   ]
  },
  {
   "cell_type": "code",
   "execution_count": 13,
   "metadata": {},
   "outputs": [],
   "source": [
    "ged = pd.read_csv('GED/ged191.csv')\n",
    "ged = ged[ged.country.isin(['Afghanistan', 'Georgia'])]\n",
    "ged = ged[['country', 'date_start']].reset_index(drop=True)\n",
    "ged.date_start = pd.to_datetime(ged.date_start)\n",
    "ged['no_of_events'] = 1\n",
    "ged = ged.groupby(['date_start', 'country']).sum().reset_index()\n",
    "ged.columns = ['date', 'country', 'no_of_events_ged']"
   ]
  },
  {
   "cell_type": "code",
   "execution_count": 14,
   "metadata": {},
   "outputs": [],
   "source": [
    "ged_afg = ged[ged.country == 'Afghanistan']\n",
    "ged_georgia = ged[ged.country == 'Georgia']\n",
    "ged_afg = ged_afg[(ged_afg.date > pd.to_datetime('1996-12-31')) & (ged_afg.date < pd.to_datetime('2006-01-01'))].reset_index(drop=True)\n",
    "ged_georgia = ged_georgia[(ged_georgia.date < pd.to_datetime('2014-01-01')) & (ged_georgia.date > pd.to_datetime('2003-12-31'))].reset_index(drop=True)"
   ]
  },
  {
   "cell_type": "code",
   "execution_count": 15,
   "metadata": {},
   "outputs": [],
   "source": [
    "afg = afg.merge(ged_afg,how=\"outer\", on=['date', 'country'])\n",
    "georgia = georgia.merge(ged_georgia,how=\"outer\", on=['date', 'country'])"
   ]
  },
  {
   "cell_type": "code",
   "execution_count": 16,
   "metadata": {},
   "outputs": [],
   "source": [
    "afg = afg.fillna(0)\n",
    "afg.no_of_events = afg.no_of_events + afg.no_of_events_ged\n",
    "afg = afg.drop(columns = 'no_of_events_ged')\n",
    "georgia = georgia.fillna(0)\n",
    "georgia.no_of_events = georgia.no_of_events + georgia.no_of_events_ged\n",
    "georgia = georgia.drop(columns = 'no_of_events_ged')\n",
    "afg['invasion'] = np.where((afg.date >= pd.to_datetime('2001-10-07')), 1, 0) ## Bombing date with Britain\n",
    "georgia['invasion'] = np.where((georgia.date >= pd.to_datetime('2008-08-08')), 1, 0) ## Russo-Georgia war"
   ]
  },
  {
   "cell_type": "code",
   "execution_count": 17,
   "metadata": {},
   "outputs": [
    {
     "name": "stdout",
     "output_type": "stream",
     "text": [
      "Observations for Syria: 1144\n",
      "Observations for Afghanistan: 1345\n",
      "Observations for Iraq: 1048\n",
      "Observations for Ukraine: 585\n",
      "Observations for Georgia: 90\n"
     ]
    }
   ],
   "source": [
    "print(\"Observations for Syria:\", syria.shape[0])\n",
    "print(\"Observations for Afghanistan:\", afg.shape[0])\n",
    "print(\"Observations for Iraq:\", iraq.shape[0])\n",
    "print(\"Observations for Ukraine:\", ukraine.shape[0])\n",
    "print(\"Observations for Georgia:\", georgia.shape[0])"
   ]
  },
  {
   "cell_type": "markdown",
   "metadata": {},
   "source": [
    "Altering the dates for RD analysis."
   ]
  },
  {
   "cell_type": "code",
   "execution_count": 18,
   "metadata": {},
   "outputs": [],
   "source": [
    "afg['date_rd'] = afg.date - pd.to_datetime('2001-10-07')\n",
    "iraq['date_rd'] = iraq.date - pd.to_datetime('2003-03-19')\n",
    "georgia['date_rd'] = georgia.date - pd.to_datetime('2008-08-08')\n",
    "ukraine['date_rd'] = ukraine.date - pd.to_datetime('2014-08-27')\n",
    "syria['date_us_rd'] = syria.date - pd.to_datetime('2014-09-22')\n",
    "syria['date_ru_rd'] = syria.date - pd.to_datetime('2015-09-30')"
   ]
  },
  {
   "cell_type": "markdown",
   "metadata": {},
   "source": [
    "Creating interaction between date_rd and treatment"
   ]
  },
  {
   "cell_type": "code",
   "execution_count": 19,
   "metadata": {},
   "outputs": [],
   "source": [
    "afg['int_rd'] = afg.date_rd*afg.invasion\n",
    "iraq['int_rd'] = iraq.date_rd*iraq.invasion\n",
    "georgia['int_rd'] = georgia.date_rd*georgia.invasion\n",
    "ukraine['int_rd'] = ukraine.date_rd*ukraine.invasion\n",
    "syria['int_us_rd'] = syria.date_us_rd*syria.invasion_us\n",
    "syria['int_ru_rd'] = syria.date_ru_rd*syria.invasion_ru"
   ]
  },
  {
   "cell_type": "markdown",
   "metadata": {},
   "source": [
    "Converting data types to be able to include in regression model"
   ]
  },
  {
   "cell_type": "code",
   "execution_count": 20,
   "metadata": {},
   "outputs": [],
   "source": [
    "afg['date_rd'] = afg['date_rd'].astype('timedelta64[D]')\n",
    "afg['int_rd'] = afg['int_rd'].astype('timedelta64[D]')\n",
    "\n",
    "iraq['date_rd'] =iraq['date_rd'].astype('timedelta64[D]')\n",
    "iraq['int_rd'] = iraq['int_rd'].astype('timedelta64[D]')\n",
    "\n",
    "georgia['date_rd'] = georgia['date_rd'].astype('timedelta64[D]')\n",
    "georgia['int_rd'] = georgia['int_rd'].astype('timedelta64[D]')\n",
    "\n",
    "ukraine['date_rd'] = ukraine['date_rd'].astype('timedelta64[D]')\n",
    "ukraine['int_rd'] = ukraine['int_rd'].astype('timedelta64[D]')\n",
    "\n",
    "syria['date_us_rd'] = syria['date_us_rd'].astype('timedelta64[D]')\n",
    "syria['int_us_rd'] = syria['int_us_rd'].astype('timedelta64[D]')\n",
    "\n",
    "syria['date_ru_rd'] = syria['date_ru_rd'].astype('timedelta64[D]')\n",
    "syria['int_ru_rd'] = syria['int_ru_rd'].astype('timedelta64[D]')"
   ]
  },
  {
   "cell_type": "code",
   "execution_count": 21,
   "metadata": {},
   "outputs": [
    {
     "data": {
      "image/png": "[encoded data removed]",
      "text/plain": [
       "<Figure size 432x288 with 1 Axes>"
      ]
     },
     "metadata": {
      "needs_background": "light"
     },
     "output_type": "display_data"
    }
   ],
   "source": [
    "plt.hist(afg.date)\n",
    "plt.xlabel('Year')\n",
    "plt.ylabel('No. of Events')\n",
    "plt.title('Afghanistan')\n",
    "#plt.savefig('fig.png')\n",
    "plt.show()"
   ]
  },
  {
   "cell_type": "code",
   "execution_count": 22,
   "metadata": {},
   "outputs": [
    {
     "data": {
      "image/png": "[encoded data removed]",
      "text/plain": [
       "<Figure size 432x288 with 1 Axes>"
      ]
     },
     "metadata": {
      "needs_background": "light"
     },
     "output_type": "display_data"
    }
   ],
   "source": [
    "plt.hist(iraq.date)\n",
    "plt.xlabel('Year')\n",
    "plt.ylabel('No. of Events')\n",
    "plt.title('Iraq')\n",
    "#plt.savefig('fig.png')\n",
    "plt.show()"
   ]
  },
  {
   "cell_type": "code",
   "execution_count": 23,
   "metadata": {
    "scrolled": true
   },
   "outputs": [
    {
     "data": {
      "image/png": "[encoded data removed]",
      "text/plain": [
       "<Figure size 432x288 with 1 Axes>"
      ]
     },
     "metadata": {
      "needs_background": "light"
     },
     "output_type": "display_data"
    }
   ],
   "source": [
    "plt.hist(georgia.date)\n",
    "plt.xlabel('Year')\n",
    "plt.ylabel('No. of Events')\n",
    "plt.title('Georgia')\n",
    "#plt.savefig('fig.png')\n",
    "plt.show()"
   ]
  },
  {
   "cell_type": "code",
   "execution_count": 24,
   "metadata": {
    "scrolled": true
   },
   "outputs": [
    {
     "data": {
      "image/png": "[encoded data removed]",
      "text/plain": [
       "<Figure size 432x288 with 1 Axes>"
      ]
     },
     "metadata": {
      "needs_background": "light"
     },
     "output_type": "display_data"
    }
   ],
   "source": [
    "plt.hist(ukraine.date)\n",
    "plt.xlabel('Year')\n",
    "plt.ylabel('No. of Events')\n",
    "plt.title('Ukraine')\n",
    "#plt.savefig('fig.png')\n",
    "plt.show()"
   ]
  },
  {
   "cell_type": "code",
   "execution_count": 25,
   "metadata": {},
   "outputs": [
    {
     "data": {
      "image/png": "[encoded data removed]",
      "text/plain": [
       "<Figure size 432x288 with 1 Axes>"
      ]
     },
     "metadata": {
      "needs_background": "light"
     },
     "output_type": "display_data"
    }
   ],
   "source": [
    "plt.hist(syria.date)\n",
    "plt.xlabel('Year')\n",
    "plt.ylabel('No. of Events')\n",
    "plt.title('Syrian Arab Republic')\n",
    "#plt.savefig('fig.png')\n",
    "plt.show()"
   ]
  },
  {
   "cell_type": "code",
   "execution_count": 26,
   "metadata": {},
   "outputs": [
    {
     "data": {
      "text/html": [
       "<table class=\"simpletable\">\n",
       "<caption>OLS Regression Results</caption>\n",
       "<tr>\n",
       "  <th>Dep. Variable:</th>      <td>no_of_events</td>   <th>  R-squared:         </th> <td>   0.018</td>\n",
       "</tr>\n",
       "<tr>\n",
       "  <th>Model:</th>                   <td>OLS</td>       <th>  Adj. R-squared:    </th> <td>   0.016</td>\n",
       "</tr>\n",
       "<tr>\n",
       "  <th>Method:</th>             <td>Least Squares</td>  <th>  F-statistic:       </th> <td>   8.383</td>\n",
       "</tr>\n",
       "<tr>\n",
       "  <th>Date:</th>             <td>Wed, 30 Dec 2020</td> <th>  Prob (F-statistic):</th> <td>1.60e-05</td>\n",
       "</tr>\n",
       "<tr>\n",
       "  <th>Time:</th>                 <td>04:27:26</td>     <th>  Log-Likelihood:    </th> <td> -2294.2</td>\n",
       "</tr>\n",
       "<tr>\n",
       "  <th>No. Observations:</th>      <td>  1345</td>      <th>  AIC:               </th> <td>   4596.</td>\n",
       "</tr>\n",
       "<tr>\n",
       "  <th>Df Residuals:</th>          <td>  1341</td>      <th>  BIC:               </th> <td>   4617.</td>\n",
       "</tr>\n",
       "<tr>\n",
       "  <th>Df Model:</th>              <td>     3</td>      <th>                     </th>     <td> </td>   \n",
       "</tr>\n",
       "<tr>\n",
       "  <th>Covariance Type:</th>      <td>nonrobust</td>    <th>                     </th>     <td> </td>   \n",
       "</tr>\n",
       "</table>\n",
       "<table class=\"simpletable\">\n",
       "<tr>\n",
       "      <td></td>         <th>coef</th>     <th>std err</th>      <th>t</th>      <th>P>|t|</th>  <th>[0.025</th>    <th>0.975]</th>  \n",
       "</tr>\n",
       "<tr>\n",
       "  <th>Intercept</th> <td>    1.6568</td> <td>    0.116</td> <td>   14.287</td> <td> 0.000</td> <td>    1.429</td> <td>    1.884</td>\n",
       "</tr>\n",
       "<tr>\n",
       "  <th>invasion</th>  <td>    0.0181</td> <td>    0.155</td> <td>    0.117</td> <td> 0.907</td> <td>   -0.287</td> <td>    0.323</td>\n",
       "</tr>\n",
       "<tr>\n",
       "  <th>date_rd</th>   <td> 1.051e-05</td> <td>    0.000</td> <td>    0.092</td> <td> 0.927</td> <td>   -0.000</td> <td>    0.000</td>\n",
       "</tr>\n",
       "<tr>\n",
       "  <th>int_rd</th>    <td>    0.0003</td> <td>    0.000</td> <td>    1.929</td> <td> 0.054</td> <td>-5.09e-06</td> <td>    0.001</td>\n",
       "</tr>\n",
       "</table>\n",
       "<table class=\"simpletable\">\n",
       "<tr>\n",
       "  <th>Omnibus:</th>       <td>926.415</td> <th>  Durbin-Watson:     </th> <td>   1.651</td> \n",
       "</tr>\n",
       "<tr>\n",
       "  <th>Prob(Omnibus):</th> <td> 0.000</td>  <th>  Jarque-Bera (JB):  </th> <td>14170.755</td>\n",
       "</tr>\n",
       "<tr>\n",
       "  <th>Skew:</th>          <td> 3.044</td>  <th>  Prob(JB):          </th> <td>    0.00</td> \n",
       "</tr>\n",
       "<tr>\n",
       "  <th>Kurtosis:</th>      <td>17.690</td>  <th>  Cond. No.          </th> <td>5.90e+03</td> \n",
       "</tr>\n",
       "</table><br/><br/>Warnings:<br/>[1] Standard Errors assume that the covariance matrix of the errors is correctly specified.<br/>[2] The condition number is large, 5.9e+03. This might indicate that there are<br/>strong multicollinearity or other numerical problems."
      ],
      "text/plain": [
       "<class 'statsmodels.iolib.summary.Summary'>\n",
       "\"\"\"\n",
       "                            OLS Regression Results                            \n",
       "==============================================================================\n",
       "Dep. Variable:           no_of_events   R-squared:                       0.018\n",
       "Model:                            OLS   Adj. R-squared:                  0.016\n",
       "Method:                 Least Squares   F-statistic:                     8.383\n",
       "Date:                Wed, 30 Dec 2020   Prob (F-statistic):           1.60e-05\n",
       "Time:                        04:27:26   Log-Likelihood:                -2294.2\n",
       "No. Observations:                1345   AIC:                             4596.\n",
       "Df Residuals:                    1341   BIC:                             4617.\n",
       "Df Model:                           3                                         \n",
       "Covariance Type:            nonrobust                                         \n",
       "==============================================================================\n",
       "                 coef    std err          t      P>|t|      [0.025      0.975]\n",
       "------------------------------------------------------------------------------\n",
       "Intercept      1.6568      0.116     14.287      0.000       1.429       1.884\n",
       "invasion       0.0181      0.155      0.117      0.907      -0.287       0.323\n",
       "date_rd     1.051e-05      0.000      0.092      0.927      -0.000       0.000\n",
       "int_rd         0.0003      0.000      1.929      0.054   -5.09e-06       0.001\n",
       "==============================================================================\n",
       "Omnibus:                      926.415   Durbin-Watson:                   1.651\n",
       "Prob(Omnibus):                  0.000   Jarque-Bera (JB):            14170.755\n",
       "Skew:                           3.044   Prob(JB):                         0.00\n",
       "Kurtosis:                      17.690   Cond. No.                     5.90e+03\n",
       "==============================================================================\n",
       "\n",
       "Warnings:\n",
       "[1] Standard Errors assume that the covariance matrix of the errors is correctly specified.\n",
       "[2] The condition number is large, 5.9e+03. This might indicate that there are\n",
       "strong multicollinearity or other numerical problems.\n",
       "\"\"\""
      ]
     },
     "execution_count": 26,
     "metadata": {},
     "output_type": "execute_result"
    }
   ],
   "source": [
    "model = smf.ols('no_of_events ~ invasion + date_rd + int_rd', data=afg).fit()\n",
    "model.summary()"
   ]
  },
  {
   "cell_type": "code",
   "execution_count": 27,
   "metadata": {},
   "outputs": [
    {
     "data": {
      "text/html": [
       "<table class=\"simpletable\">\n",
       "<caption>OLS Regression Results</caption>\n",
       "<tr>\n",
       "  <th>Dep. Variable:</th>      <td>no_of_events</td>   <th>  R-squared:         </th> <td>   0.091</td>\n",
       "</tr>\n",
       "<tr>\n",
       "  <th>Model:</th>                   <td>OLS</td>       <th>  Adj. R-squared:    </th> <td>   0.088</td>\n",
       "</tr>\n",
       "<tr>\n",
       "  <th>Method:</th>             <td>Least Squares</td>  <th>  F-statistic:       </th> <td>   34.78</td>\n",
       "</tr>\n",
       "<tr>\n",
       "  <th>Date:</th>             <td>Wed, 30 Dec 2020</td> <th>  Prob (F-statistic):</th> <td>1.98e-21</td>\n",
       "</tr>\n",
       "<tr>\n",
       "  <th>Time:</th>                 <td>04:27:27</td>     <th>  Log-Likelihood:    </th> <td> -2495.6</td>\n",
       "</tr>\n",
       "<tr>\n",
       "  <th>No. Observations:</th>      <td>  1048</td>      <th>  AIC:               </th> <td>   4999.</td>\n",
       "</tr>\n",
       "<tr>\n",
       "  <th>Df Residuals:</th>          <td>  1044</td>      <th>  BIC:               </th> <td>   5019.</td>\n",
       "</tr>\n",
       "<tr>\n",
       "  <th>Df Model:</th>              <td>     3</td>      <th>                     </th>     <td> </td>   \n",
       "</tr>\n",
       "<tr>\n",
       "  <th>Covariance Type:</th>      <td>nonrobust</td>    <th>                     </th>     <td> </td>   \n",
       "</tr>\n",
       "</table>\n",
       "<table class=\"simpletable\">\n",
       "<tr>\n",
       "      <td></td>         <th>coef</th>     <th>std err</th>      <th>t</th>      <th>P>|t|</th>  <th>[0.025</th>    <th>0.975]</th>  \n",
       "</tr>\n",
       "<tr>\n",
       "  <th>Intercept</th> <td>    1.0285</td> <td>    0.893</td> <td>    1.152</td> <td> 0.250</td> <td>   -0.724</td> <td>    2.781</td>\n",
       "</tr>\n",
       "<tr>\n",
       "  <th>invasion</th>  <td>    0.1355</td> <td>    0.916</td> <td>    0.148</td> <td> 0.883</td> <td>   -1.663</td> <td>    1.934</td>\n",
       "</tr>\n",
       "<tr>\n",
       "  <th>date_rd</th>   <td> 3.409e-06</td> <td>    0.001</td> <td>    0.004</td> <td> 0.996</td> <td>   -0.001</td> <td>    0.001</td>\n",
       "</tr>\n",
       "<tr>\n",
       "  <th>int_rd</th>    <td>    0.0017</td> <td>    0.001</td> <td>    2.174</td> <td> 0.030</td> <td>    0.000</td> <td>    0.003</td>\n",
       "</tr>\n",
       "</table>\n",
       "<table class=\"simpletable\">\n",
       "<tr>\n",
       "  <th>Omnibus:</th>       <td>629.620</td> <th>  Durbin-Watson:     </th> <td>   0.969</td>\n",
       "</tr>\n",
       "<tr>\n",
       "  <th>Prob(Omnibus):</th> <td> 0.000</td>  <th>  Jarque-Bera (JB):  </th> <td>6609.686</td>\n",
       "</tr>\n",
       "<tr>\n",
       "  <th>Skew:</th>          <td> 2.622</td>  <th>  Prob(JB):          </th> <td>    0.00</td>\n",
       "</tr>\n",
       "<tr>\n",
       "  <th>Kurtosis:</th>      <td>14.130</td>  <th>  Cond. No.          </th> <td>2.43e+04</td>\n",
       "</tr>\n",
       "</table><br/><br/>Warnings:<br/>[1] Standard Errors assume that the covariance matrix of the errors is correctly specified.<br/>[2] The condition number is large, 2.43e+04. This might indicate that there are<br/>strong multicollinearity or other numerical problems."
      ],
      "text/plain": [
       "<class 'statsmodels.iolib.summary.Summary'>\n",
       "\"\"\"\n",
       "                            OLS Regression Results                            \n",
       "==============================================================================\n",
       "Dep. Variable:           no_of_events   R-squared:                       0.091\n",
       "Model:                            OLS   Adj. R-squared:                  0.088\n",
       "Method:                 Least Squares   F-statistic:                     34.78\n",
       "Date:                Wed, 30 Dec 2020   Prob (F-statistic):           1.98e-21\n",
       "Time:                        04:27:27   Log-Likelihood:                -2495.6\n",
       "No. Observations:                1048   AIC:                             4999.\n",
       "Df Residuals:                    1044   BIC:                             5019.\n",
       "Df Model:                           3                                         \n",
       "Covariance Type:            nonrobust                                         \n",
       "==============================================================================\n",
       "                 coef    std err          t      P>|t|      [0.025      0.975]\n",
       "------------------------------------------------------------------------------\n",
       "Intercept      1.0285      0.893      1.152      0.250      -0.724       2.781\n",
       "invasion       0.1355      0.916      0.148      0.883      -1.663       1.934\n",
       "date_rd     3.409e-06      0.001      0.004      0.996      -0.001       0.001\n",
       "int_rd         0.0017      0.001      2.174      0.030       0.000       0.003\n",
       "==============================================================================\n",
       "Omnibus:                      629.620   Durbin-Watson:                   0.969\n",
       "Prob(Omnibus):                  0.000   Jarque-Bera (JB):             6609.686\n",
       "Skew:                           2.622   Prob(JB):                         0.00\n",
       "Kurtosis:                      14.130   Cond. No.                     2.43e+04\n",
       "==============================================================================\n",
       "\n",
       "Warnings:\n",
       "[1] Standard Errors assume that the covariance matrix of the errors is correctly specified.\n",
       "[2] The condition number is large, 2.43e+04. This might indicate that there are\n",
       "strong multicollinearity or other numerical problems.\n",
       "\"\"\""
      ]
     },
     "execution_count": 27,
     "metadata": {},
     "output_type": "execute_result"
    }
   ],
   "source": [
    "model = smf.ols('no_of_events ~ invasion + date_rd + int_rd', data=iraq).fit()\n",
    "model.summary()"
   ]
  },
  {
   "cell_type": "code",
   "execution_count": 28,
   "metadata": {},
   "outputs": [
    {
     "data": {
      "text/html": [
       "<table class=\"simpletable\">\n",
       "<caption>OLS Regression Results</caption>\n",
       "<tr>\n",
       "  <th>Dep. Variable:</th>      <td>no_of_events</td>   <th>  R-squared:         </th> <td>   0.101</td>\n",
       "</tr>\n",
       "<tr>\n",
       "  <th>Model:</th>                   <td>OLS</td>       <th>  Adj. R-squared:    </th> <td>   0.070</td>\n",
       "</tr>\n",
       "<tr>\n",
       "  <th>Method:</th>             <td>Least Squares</td>  <th>  F-statistic:       </th> <td>   3.222</td>\n",
       "</tr>\n",
       "<tr>\n",
       "  <th>Date:</th>             <td>Wed, 30 Dec 2020</td> <th>  Prob (F-statistic):</th>  <td>0.0266</td> \n",
       "</tr>\n",
       "<tr>\n",
       "  <th>Time:</th>                 <td>04:27:28</td>     <th>  Log-Likelihood:    </th> <td> -101.60</td>\n",
       "</tr>\n",
       "<tr>\n",
       "  <th>No. Observations:</th>      <td>    90</td>      <th>  AIC:               </th> <td>   211.2</td>\n",
       "</tr>\n",
       "<tr>\n",
       "  <th>Df Residuals:</th>          <td>    86</td>      <th>  BIC:               </th> <td>   221.2</td>\n",
       "</tr>\n",
       "<tr>\n",
       "  <th>Df Model:</th>              <td>     3</td>      <th>                     </th>     <td> </td>   \n",
       "</tr>\n",
       "<tr>\n",
       "  <th>Covariance Type:</th>      <td>nonrobust</td>    <th>                     </th>     <td> </td>   \n",
       "</tr>\n",
       "</table>\n",
       "<table class=\"simpletable\">\n",
       "<tr>\n",
       "      <td></td>         <th>coef</th>     <th>std err</th>      <th>t</th>      <th>P>|t|</th>  <th>[0.025</th>    <th>0.975]</th>  \n",
       "</tr>\n",
       "<tr>\n",
       "  <th>Intercept</th> <td>    1.7952</td> <td>    0.190</td> <td>    9.472</td> <td> 0.000</td> <td>    1.418</td> <td>    2.172</td>\n",
       "</tr>\n",
       "<tr>\n",
       "  <th>invasion</th>  <td>   -0.5927</td> <td>    0.248</td> <td>   -2.385</td> <td> 0.019</td> <td>   -1.087</td> <td>   -0.099</td>\n",
       "</tr>\n",
       "<tr>\n",
       "  <th>date_rd</th>   <td>    0.0004</td> <td>    0.000</td> <td>    2.246</td> <td> 0.027</td> <td> 5.04e-05</td> <td>    0.001</td>\n",
       "</tr>\n",
       "<tr>\n",
       "  <th>int_rd</th>    <td>   -0.0006</td> <td>    0.000</td> <td>   -1.845</td> <td> 0.068</td> <td>   -0.001</td> <td> 4.47e-05</td>\n",
       "</tr>\n",
       "</table>\n",
       "<table class=\"simpletable\">\n",
       "<tr>\n",
       "  <th>Omnibus:</th>       <td>120.841</td> <th>  Durbin-Watson:     </th> <td>   2.167</td>\n",
       "</tr>\n",
       "<tr>\n",
       "  <th>Prob(Omnibus):</th> <td> 0.000</td>  <th>  Jarque-Bera (JB):  </th> <td>2866.361</td>\n",
       "</tr>\n",
       "<tr>\n",
       "  <th>Skew:</th>          <td> 4.514</td>  <th>  Prob(JB):          </th> <td>    0.00</td>\n",
       "</tr>\n",
       "<tr>\n",
       "  <th>Kurtosis:</th>      <td>29.132</td>  <th>  Cond. No.          </th> <td>3.21e+03</td>\n",
       "</tr>\n",
       "</table><br/><br/>Warnings:<br/>[1] Standard Errors assume that the covariance matrix of the errors is correctly specified.<br/>[2] The condition number is large, 3.21e+03. This might indicate that there are<br/>strong multicollinearity or other numerical problems."
      ],
      "text/plain": [
       "<class 'statsmodels.iolib.summary.Summary'>\n",
       "\"\"\"\n",
       "                            OLS Regression Results                            \n",
       "==============================================================================\n",
       "Dep. Variable:           no_of_events   R-squared:                       0.101\n",
       "Model:                            OLS   Adj. R-squared:                  0.070\n",
       "Method:                 Least Squares   F-statistic:                     3.222\n",
       "Date:                Wed, 30 Dec 2020   Prob (F-statistic):             0.0266\n",
       "Time:                        04:27:28   Log-Likelihood:                -101.60\n",
       "No. Observations:                  90   AIC:                             211.2\n",
       "Df Residuals:                      86   BIC:                             221.2\n",
       "Df Model:                           3                                         \n",
       "Covariance Type:            nonrobust                                         \n",
       "==============================================================================\n",
       "                 coef    std err          t      P>|t|      [0.025      0.975]\n",
       "------------------------------------------------------------------------------\n",
       "Intercept      1.7952      0.190      9.472      0.000       1.418       2.172\n",
       "invasion      -0.5927      0.248     -2.385      0.019      -1.087      -0.099\n",
       "date_rd        0.0004      0.000      2.246      0.027    5.04e-05       0.001\n",
       "int_rd        -0.0006      0.000     -1.845      0.068      -0.001    4.47e-05\n",
       "==============================================================================\n",
       "Omnibus:                      120.841   Durbin-Watson:                   2.167\n",
       "Prob(Omnibus):                  0.000   Jarque-Bera (JB):             2866.361\n",
       "Skew:                           4.514   Prob(JB):                         0.00\n",
       "Kurtosis:                      29.132   Cond. No.                     3.21e+03\n",
       "==============================================================================\n",
       "\n",
       "Warnings:\n",
       "[1] Standard Errors assume that the covariance matrix of the errors is correctly specified.\n",
       "[2] The condition number is large, 3.21e+03. This might indicate that there are\n",
       "strong multicollinearity or other numerical problems.\n",
       "\"\"\""
      ]
     },
     "execution_count": 28,
     "metadata": {},
     "output_type": "execute_result"
    }
   ],
   "source": [
    "model = smf.ols('no_of_events ~ invasion + date_rd + int_rd', data=georgia).fit()\n",
    "model.summary()"
   ]
  },
  {
   "cell_type": "code",
   "execution_count": 29,
   "metadata": {},
   "outputs": [
    {
     "data": {
      "text/html": [
       "<table class=\"simpletable\">\n",
       "<caption>OLS Regression Results</caption>\n",
       "<tr>\n",
       "  <th>Dep. Variable:</th>      <td>no_of_events</td>   <th>  R-squared:         </th> <td>   0.115</td>\n",
       "</tr>\n",
       "<tr>\n",
       "  <th>Model:</th>                   <td>OLS</td>       <th>  Adj. R-squared:    </th> <td>   0.110</td>\n",
       "</tr>\n",
       "<tr>\n",
       "  <th>Method:</th>             <td>Least Squares</td>  <th>  F-statistic:       </th> <td>   25.17</td>\n",
       "</tr>\n",
       "<tr>\n",
       "  <th>Date:</th>             <td>Wed, 30 Dec 2020</td> <th>  Prob (F-statistic):</th> <td>2.55e-15</td>\n",
       "</tr>\n",
       "<tr>\n",
       "  <th>Time:</th>                 <td>04:27:28</td>     <th>  Log-Likelihood:    </th> <td> -1423.8</td>\n",
       "</tr>\n",
       "<tr>\n",
       "  <th>No. Observations:</th>      <td>   585</td>      <th>  AIC:               </th> <td>   2856.</td>\n",
       "</tr>\n",
       "<tr>\n",
       "  <th>Df Residuals:</th>          <td>   581</td>      <th>  BIC:               </th> <td>   2873.</td>\n",
       "</tr>\n",
       "<tr>\n",
       "  <th>Df Model:</th>              <td>     3</td>      <th>                     </th>     <td> </td>   \n",
       "</tr>\n",
       "<tr>\n",
       "  <th>Covariance Type:</th>      <td>nonrobust</td>    <th>                     </th>     <td> </td>   \n",
       "</tr>\n",
       "</table>\n",
       "<table class=\"simpletable\">\n",
       "<tr>\n",
       "      <td></td>         <th>coef</th>     <th>std err</th>      <th>t</th>      <th>P>|t|</th>  <th>[0.025</th>    <th>0.975]</th>  \n",
       "</tr>\n",
       "<tr>\n",
       "  <th>Intercept</th> <td>    3.6124</td> <td>    0.260</td> <td>   13.902</td> <td> 0.000</td> <td>    3.102</td> <td>    4.123</td>\n",
       "</tr>\n",
       "<tr>\n",
       "  <th>invasion</th>  <td>    0.1932</td> <td>    0.327</td> <td>    0.591</td> <td> 0.555</td> <td>   -0.448</td> <td>    0.835</td>\n",
       "</tr>\n",
       "<tr>\n",
       "  <th>date_rd</th>   <td>    0.0023</td> <td>    0.001</td> <td>    2.483</td> <td> 0.013</td> <td>    0.000</td> <td>    0.004</td>\n",
       "</tr>\n",
       "<tr>\n",
       "  <th>int_rd</th>    <td>   -0.0050</td> <td>    0.001</td> <td>   -5.041</td> <td> 0.000</td> <td>   -0.007</td> <td>   -0.003</td>\n",
       "</tr>\n",
       "</table>\n",
       "<table class=\"simpletable\">\n",
       "<tr>\n",
       "  <th>Omnibus:</th>       <td>358.099</td> <th>  Durbin-Watson:     </th> <td>   1.465</td>\n",
       "</tr>\n",
       "<tr>\n",
       "  <th>Prob(Omnibus):</th> <td> 0.000</td>  <th>  Jarque-Bera (JB):  </th> <td>3067.010</td>\n",
       "</tr>\n",
       "<tr>\n",
       "  <th>Skew:</th>          <td> 2.664</td>  <th>  Prob(JB):          </th> <td>    0.00</td>\n",
       "</tr>\n",
       "<tr>\n",
       "  <th>Kurtosis:</th>      <td>12.871</td>  <th>  Cond. No.          </th> <td>2.50e+03</td>\n",
       "</tr>\n",
       "</table><br/><br/>Warnings:<br/>[1] Standard Errors assume that the covariance matrix of the errors is correctly specified.<br/>[2] The condition number is large, 2.5e+03. This might indicate that there are<br/>strong multicollinearity or other numerical problems."
      ],
      "text/plain": [
       "<class 'statsmodels.iolib.summary.Summary'>\n",
       "\"\"\"\n",
       "                            OLS Regression Results                            \n",
       "==============================================================================\n",
       "Dep. Variable:           no_of_events   R-squared:                       0.115\n",
       "Model:                            OLS   Adj. R-squared:                  0.110\n",
       "Method:                 Least Squares   F-statistic:                     25.17\n",
       "Date:                Wed, 30 Dec 2020   Prob (F-statistic):           2.55e-15\n",
       "Time:                        04:27:28   Log-Likelihood:                -1423.8\n",
       "No. Observations:                 585   AIC:                             2856.\n",
       "Df Residuals:                     581   BIC:                             2873.\n",
       "Df Model:                           3                                         \n",
       "Covariance Type:            nonrobust                                         \n",
       "==============================================================================\n",
       "                 coef    std err          t      P>|t|      [0.025      0.975]\n",
       "------------------------------------------------------------------------------\n",
       "Intercept      3.6124      0.260     13.902      0.000       3.102       4.123\n",
       "invasion       0.1932      0.327      0.591      0.555      -0.448       0.835\n",
       "date_rd        0.0023      0.001      2.483      0.013       0.000       0.004\n",
       "int_rd        -0.0050      0.001     -5.041      0.000      -0.007      -0.003\n",
       "==============================================================================\n",
       "Omnibus:                      358.099   Durbin-Watson:                   1.465\n",
       "Prob(Omnibus):                  0.000   Jarque-Bera (JB):             3067.010\n",
       "Skew:                           2.664   Prob(JB):                         0.00\n",
       "Kurtosis:                      12.871   Cond. No.                     2.50e+03\n",
       "==============================================================================\n",
       "\n",
       "Warnings:\n",
       "[1] Standard Errors assume that the covariance matrix of the errors is correctly specified.\n",
       "[2] The condition number is large, 2.5e+03. This might indicate that there are\n",
       "strong multicollinearity or other numerical problems.\n",
       "\"\"\""
      ]
     },
     "execution_count": 29,
     "metadata": {},
     "output_type": "execute_result"
    }
   ],
   "source": [
    "model = smf.ols('no_of_events ~ invasion + date_rd + int_rd', data=ukraine).fit()\n",
    "model.summary()"
   ]
  },
  {
   "cell_type": "code",
   "execution_count": 30,
   "metadata": {},
   "outputs": [
    {
     "data": {
      "text/html": [
       "<table class=\"simpletable\">\n",
       "<caption>OLS Regression Results</caption>\n",
       "<tr>\n",
       "  <th>Dep. Variable:</th>      <td>no_of_events</td>   <th>  R-squared:         </th> <td>   0.046</td>\n",
       "</tr>\n",
       "<tr>\n",
       "  <th>Model:</th>                   <td>OLS</td>       <th>  Adj. R-squared:    </th> <td>   0.044</td>\n",
       "</tr>\n",
       "<tr>\n",
       "  <th>Method:</th>             <td>Least Squares</td>  <th>  F-statistic:       </th> <td>   18.40</td>\n",
       "</tr>\n",
       "<tr>\n",
       "  <th>Date:</th>             <td>Wed, 30 Dec 2020</td> <th>  Prob (F-statistic):</th> <td>1.17e-11</td>\n",
       "</tr>\n",
       "<tr>\n",
       "  <th>Time:</th>                 <td>04:27:29</td>     <th>  Log-Likelihood:    </th> <td> -2137.5</td>\n",
       "</tr>\n",
       "<tr>\n",
       "  <th>No. Observations:</th>      <td>  1144</td>      <th>  AIC:               </th> <td>   4283.</td>\n",
       "</tr>\n",
       "<tr>\n",
       "  <th>Df Residuals:</th>          <td>  1140</td>      <th>  BIC:               </th> <td>   4303.</td>\n",
       "</tr>\n",
       "<tr>\n",
       "  <th>Df Model:</th>              <td>     3</td>      <th>                     </th>     <td> </td>   \n",
       "</tr>\n",
       "<tr>\n",
       "  <th>Covariance Type:</th>      <td>nonrobust</td>    <th>                     </th>     <td> </td>   \n",
       "</tr>\n",
       "</table>\n",
       "<table class=\"simpletable\">\n",
       "<tr>\n",
       "       <td></td>          <th>coef</th>     <th>std err</th>      <th>t</th>      <th>P>|t|</th>  <th>[0.025</th>    <th>0.975]</th>  \n",
       "</tr>\n",
       "<tr>\n",
       "  <th>Intercept</th>   <td>    2.0250</td> <td>    0.143</td> <td>   14.115</td> <td> 0.000</td> <td>    1.744</td> <td>    2.306</td>\n",
       "</tr>\n",
       "<tr>\n",
       "  <th>invasion_us</th> <td>    0.6235</td> <td>    0.183</td> <td>    3.404</td> <td> 0.001</td> <td>    0.264</td> <td>    0.983</td>\n",
       "</tr>\n",
       "<tr>\n",
       "  <th>date_us_rd</th>  <td>    0.0006</td> <td>    0.000</td> <td>    2.636</td> <td> 0.009</td> <td>    0.000</td> <td>    0.001</td>\n",
       "</tr>\n",
       "<tr>\n",
       "  <th>int_us_rd</th>   <td>   -0.0014</td> <td>    0.000</td> <td>   -4.969</td> <td> 0.000</td> <td>   -0.002</td> <td>   -0.001</td>\n",
       "</tr>\n",
       "</table>\n",
       "<table class=\"simpletable\">\n",
       "<tr>\n",
       "  <th>Omnibus:</th>       <td>727.834</td> <th>  Durbin-Watson:     </th> <td>   1.883</td>\n",
       "</tr>\n",
       "<tr>\n",
       "  <th>Prob(Omnibus):</th> <td> 0.000</td>  <th>  Jarque-Bera (JB):  </th> <td>8272.767</td>\n",
       "</tr>\n",
       "<tr>\n",
       "  <th>Skew:</th>          <td> 2.817</td>  <th>  Prob(JB):          </th> <td>    0.00</td>\n",
       "</tr>\n",
       "<tr>\n",
       "  <th>Kurtosis:</th>      <td>14.908</td>  <th>  Cond. No.          </th> <td>4.67e+03</td>\n",
       "</tr>\n",
       "</table><br/><br/>Warnings:<br/>[1] Standard Errors assume that the covariance matrix of the errors is correctly specified.<br/>[2] The condition number is large, 4.67e+03. This might indicate that there are<br/>strong multicollinearity or other numerical problems."
      ],
      "text/plain": [
       "<class 'statsmodels.iolib.summary.Summary'>\n",
       "\"\"\"\n",
       "                            OLS Regression Results                            \n",
       "==============================================================================\n",
       "Dep. Variable:           no_of_events   R-squared:                       0.046\n",
       "Model:                            OLS   Adj. R-squared:                  0.044\n",
       "Method:                 Least Squares   F-statistic:                     18.40\n",
       "Date:                Wed, 30 Dec 2020   Prob (F-statistic):           1.17e-11\n",
       "Time:                        04:27:29   Log-Likelihood:                -2137.5\n",
       "No. Observations:                1144   AIC:                             4283.\n",
       "Df Residuals:                    1140   BIC:                             4303.\n",
       "Df Model:                           3                                         \n",
       "Covariance Type:            nonrobust                                         \n",
       "===============================================================================\n",
       "                  coef    std err          t      P>|t|      [0.025      0.975]\n",
       "-------------------------------------------------------------------------------\n",
       "Intercept       2.0250      0.143     14.115      0.000       1.744       2.306\n",
       "invasion_us     0.6235      0.183      3.404      0.001       0.264       0.983\n",
       "date_us_rd      0.0006      0.000      2.636      0.009       0.000       0.001\n",
       "int_us_rd      -0.0014      0.000     -4.969      0.000      -0.002      -0.001\n",
       "==============================================================================\n",
       "Omnibus:                      727.834   Durbin-Watson:                   1.883\n",
       "Prob(Omnibus):                  0.000   Jarque-Bera (JB):             8272.767\n",
       "Skew:                           2.817   Prob(JB):                         0.00\n",
       "Kurtosis:                      14.908   Cond. No.                     4.67e+03\n",
       "==============================================================================\n",
       "\n",
       "Warnings:\n",
       "[1] Standard Errors assume that the covariance matrix of the errors is correctly specified.\n",
       "[2] The condition number is large, 4.67e+03. This might indicate that there are\n",
       "strong multicollinearity or other numerical problems.\n",
       "\"\"\""
      ]
     },
     "execution_count": 30,
     "metadata": {},
     "output_type": "execute_result"
    }
   ],
   "source": [
    "model = smf.ols('no_of_events ~ invasion_us + date_us_rd + int_us_rd', data=syria).fit()\n",
    "model.summary()"
   ]
  },
  {
   "cell_type": "code",
   "execution_count": 31,
   "metadata": {},
   "outputs": [
    {
     "data": {
      "text/html": [
       "<table class=\"simpletable\">\n",
       "<caption>OLS Regression Results</caption>\n",
       "<tr>\n",
       "  <th>Dep. Variable:</th>      <td>no_of_events</td>   <th>  R-squared:         </th> <td>   0.052</td>\n",
       "</tr>\n",
       "<tr>\n",
       "  <th>Model:</th>                   <td>OLS</td>       <th>  Adj. R-squared:    </th> <td>   0.049</td>\n",
       "</tr>\n",
       "<tr>\n",
       "  <th>Method:</th>             <td>Least Squares</td>  <th>  F-statistic:       </th> <td>   20.67</td>\n",
       "</tr>\n",
       "<tr>\n",
       "  <th>Date:</th>             <td>Wed, 30 Dec 2020</td> <th>  Prob (F-statistic):</th> <td>4.79e-13</td>\n",
       "</tr>\n",
       "<tr>\n",
       "  <th>Time:</th>                 <td>04:27:30</td>     <th>  Log-Likelihood:    </th> <td> -2134.3</td>\n",
       "</tr>\n",
       "<tr>\n",
       "  <th>No. Observations:</th>      <td>  1144</td>      <th>  AIC:               </th> <td>   4277.</td>\n",
       "</tr>\n",
       "<tr>\n",
       "  <th>Df Residuals:</th>          <td>  1140</td>      <th>  BIC:               </th> <td>   4297.</td>\n",
       "</tr>\n",
       "<tr>\n",
       "  <th>Df Model:</th>              <td>     3</td>      <th>                     </th>     <td> </td>   \n",
       "</tr>\n",
       "<tr>\n",
       "  <th>Covariance Type:</th>      <td>nonrobust</td>    <th>                     </th>     <td> </td>   \n",
       "</tr>\n",
       "</table>\n",
       "<table class=\"simpletable\">\n",
       "<tr>\n",
       "       <td></td>          <th>coef</th>     <th>std err</th>      <th>t</th>      <th>P>|t|</th>  <th>[0.025</th>    <th>0.975]</th>  \n",
       "</tr>\n",
       "<tr>\n",
       "  <th>Intercept</th>   <td>    2.6171</td> <td>    0.115</td> <td>   22.842</td> <td> 0.000</td> <td>    2.392</td> <td>    2.842</td>\n",
       "</tr>\n",
       "<tr>\n",
       "  <th>invasion_ru</th> <td>   -0.2003</td> <td>    0.177</td> <td>   -1.134</td> <td> 0.257</td> <td>   -0.547</td> <td>    0.146</td>\n",
       "</tr>\n",
       "<tr>\n",
       "  <th>date_ru_rd</th>  <td>    0.0010</td> <td>    0.000</td> <td>    6.785</td> <td> 0.000</td> <td>    0.001</td> <td>    0.001</td>\n",
       "</tr>\n",
       "<tr>\n",
       "  <th>int_ru_rd</th>   <td>   -0.0018</td> <td>    0.000</td> <td>   -7.187</td> <td> 0.000</td> <td>   -0.002</td> <td>   -0.001</td>\n",
       "</tr>\n",
       "</table>\n",
       "<table class=\"simpletable\">\n",
       "<tr>\n",
       "  <th>Omnibus:</th>       <td>725.665</td> <th>  Durbin-Watson:     </th> <td>   1.894</td>\n",
       "</tr>\n",
       "<tr>\n",
       "  <th>Prob(Omnibus):</th> <td> 0.000</td>  <th>  Jarque-Bera (JB):  </th> <td>8218.292</td>\n",
       "</tr>\n",
       "<tr>\n",
       "  <th>Skew:</th>          <td> 2.807</td>  <th>  Prob(JB):          </th> <td>    0.00</td>\n",
       "</tr>\n",
       "<tr>\n",
       "  <th>Kurtosis:</th>      <td>14.870</td>  <th>  Cond. No.          </th> <td>3.29e+03</td>\n",
       "</tr>\n",
       "</table><br/><br/>Warnings:<br/>[1] Standard Errors assume that the covariance matrix of the errors is correctly specified.<br/>[2] The condition number is large, 3.29e+03. This might indicate that there are<br/>strong multicollinearity or other numerical problems."
      ],
      "text/plain": [
       "<class 'statsmodels.iolib.summary.Summary'>\n",
       "\"\"\"\n",
       "                            OLS Regression Results                            \n",
       "==============================================================================\n",
       "Dep. Variable:           no_of_events   R-squared:                       0.052\n",
       "Model:                            OLS   Adj. R-squared:                  0.049\n",
       "Method:                 Least Squares   F-statistic:                     20.67\n",
       "Date:                Wed, 30 Dec 2020   Prob (F-statistic):           4.79e-13\n",
       "Time:                        04:27:30   Log-Likelihood:                -2134.3\n",
       "No. Observations:                1144   AIC:                             4277.\n",
       "Df Residuals:                    1140   BIC:                             4297.\n",
       "Df Model:                           3                                         \n",
       "Covariance Type:            nonrobust                                         \n",
       "===============================================================================\n",
       "                  coef    std err          t      P>|t|      [0.025      0.975]\n",
       "-------------------------------------------------------------------------------\n",
       "Intercept       2.6171      0.115     22.842      0.000       2.392       2.842\n",
       "invasion_ru    -0.2003      0.177     -1.134      0.257      -0.547       0.146\n",
       "date_ru_rd      0.0010      0.000      6.785      0.000       0.001       0.001\n",
       "int_ru_rd      -0.0018      0.000     -7.187      0.000      -0.002      -0.001\n",
       "==============================================================================\n",
       "Omnibus:                      725.665   Durbin-Watson:                   1.894\n",
       "Prob(Omnibus):                  0.000   Jarque-Bera (JB):             8218.292\n",
       "Skew:                           2.807   Prob(JB):                         0.00\n",
       "Kurtosis:                      14.870   Cond. No.                     3.29e+03\n",
       "==============================================================================\n",
       "\n",
       "Warnings:\n",
       "[1] Standard Errors assume that the covariance matrix of the errors is correctly specified.\n",
       "[2] The condition number is large, 3.29e+03. This might indicate that there are\n",
       "strong multicollinearity or other numerical problems.\n",
       "\"\"\""
      ]
     },
     "execution_count": 31,
     "metadata": {},
     "output_type": "execute_result"
    }
   ],
   "source": [
    "model = smf.ols('no_of_events ~ invasion_ru + date_ru_rd + int_ru_rd', data=syria).fit()\n",
    "model.summary()"
   ]
  },
  {
   "cell_type": "markdown",
   "metadata": {},
   "source": [
    "## Non-Parametric Approaches"
   ]
  },
  {
   "cell_type": "code",
   "execution_count": 32,
   "metadata": {
    "scrolled": true
   },
   "outputs": [],
   "source": [
    "data =  gtd_class[gtd_class.country_txt == 'Syria'].reset_index(drop = True)"
   ]
  },
  {
   "cell_type": "markdown",
   "metadata": {},
   "source": [
    "## Data Cleaning and assignment of feature matrix and target array"
   ]
  },
  {
   "cell_type": "code",
   "execution_count": 33,
   "metadata": {},
   "outputs": [],
   "source": [
    "data = data.drop(columns=['country_txt', 'country', 'region', 'region_txt', 'guncertain1', 'no_of_events'])\n",
    "data = data[data.city != 'Unknown']\n",
    "data = data[data.weaptype1_txt != 'Unknown']\n",
    "data = data[data.targtype1_txt != 'Unknown']\n",
    "data = data[data.corp1 != 'Unknown']\n",
    "data = data[data.gname != 'Unknown']\n",
    "X = data.drop(columns=['attacktype1_txt', 'date', 'corp1']).reset_index(drop=True)\n",
    "y = data.attacktype1_txt.reset_index(drop=True)"
   ]
  },
  {
   "cell_type": "code",
   "execution_count": 34,
   "metadata": {},
   "outputs": [],
   "source": [
    "X['date'] = X['iyear'].astype(str) + \"-\" + X['imonth'].astype(str) + \"-\" + X[\"iday\"].astype(str)\n",
    "X['date'] = pd.to_datetime(gtd['date'])"
   ]
  },
  {
   "cell_type": "code",
   "execution_count": 35,
   "metadata": {},
   "outputs": [],
   "source": [
    "X['day_of_the_week'] = X.date.dt.day_name()\n",
    "\n",
    "X = X.drop(columns = ['iyear', 'imonth', 'iday', 'latitude', 'longitude', 'propextent_txt', 'propvalue', 'ransompaidus', 'nperps', 'nwound', 'nwoundte', 'nkill', 'nkillus', 'nkillter', 'date', 'nwoundus', 'property', 'provstate'])"
   ]
  },
  {
   "cell_type": "code",
   "execution_count": 36,
   "metadata": {},
   "outputs": [
    {
     "name": "stdout",
     "output_type": "stream",
     "text": [
      "The number of observations available are:  1009\n"
     ]
    }
   ],
   "source": [
    "print(\"The number of observations available are: \", X.shape[0])"
   ]
  },
  {
   "cell_type": "code",
   "execution_count": 37,
   "metadata": {},
   "outputs": [],
   "source": [
    "X = pd.get_dummies(X, columns=['city', 'weaptype1_txt', 'targtype1_txt', 'gname', 'day_of_the_week']) ## Feature Matrix"
   ]
  },
  {
   "cell_type": "markdown",
   "metadata": {},
   "source": [
    "## Encoding the DV"
   ]
  },
  {
   "cell_type": "code",
   "execution_count": 38,
   "metadata": {
    "scrolled": true
   },
   "outputs": [
    {
     "name": "stdout",
     "output_type": "stream",
     "text": [
      "['Armed Assault' 'Assassination' 'Bombing/Explosion'\n",
      " 'Facility/Infrastructure Attack' 'Hostage Taking (Barricade Incident)'\n",
      " 'Hostage Taking (Kidnapping)' 'Unarmed Assault']\n"
     ]
    }
   ],
   "source": [
    "le = LabelEncoder()\n",
    "y = le.fit_transform(y) ## Fitting label encoder to y for classes\n",
    "print(le.classes_) ## Printing the classes for reference"
   ]
  },
  {
   "cell_type": "markdown",
   "metadata": {},
   "source": [
    "## KNN"
   ]
  },
  {
   "cell_type": "code",
   "execution_count": 48,
   "metadata": {},
   "outputs": [
    {
     "data": {
      "text/plain": [
       "KNeighborsRegressor(algorithm='auto', leaf_size=30, metric='minkowski',\n",
       "                    metric_params=None, n_jobs=None, n_neighbors=5, p=2,\n",
       "                    weights='uniform')"
      ]
     },
     "execution_count": 48,
     "metadata": {},
     "output_type": "execute_result"
    }
   ],
   "source": [
    "knn = KNeighborsRegressor(n_neighbors = 5)\n",
    "knn.fit(X, y)"
   ]
  },
  {
   "cell_type": "code",
   "execution_count": 49,
   "metadata": {},
   "outputs": [
    {
     "name": "stdout",
     "output_type": "stream",
     "text": [
      "The accuracy of KNN model is:  0.61 %\n"
     ]
    }
   ],
   "source": [
    "print(\"The accuracy of KNN model is: \", round(cross_val_score(knn, X, y, cv=10).mean()*100, 2), \"%\")"
   ]
  },
  {
   "cell_type": "code",
   "execution_count": 41,
   "metadata": {},
   "outputs": [],
   "source": [
    "range_set = [1,2,3,4,5,6,7,8,9,10]"
   ]
  },
  {
   "cell_type": "code",
   "execution_count": 42,
   "metadata": {
    "scrolled": true
   },
   "outputs": [],
   "source": [
    "train_scores, test_scores = validation_curve(knn, X, y, param_name = \"n_neighbors\", param_range = range_set, cv=10)"
   ]
  },
  {
   "cell_type": "code",
   "execution_count": 43,
   "metadata": {},
   "outputs": [],
   "source": [
    "train_mean = np.mean(train_scores, axis=1)\n",
    "test_mean = np.mean(test_scores, axis=1)"
   ]
  },
  {
   "cell_type": "code",
   "execution_count": 44,
   "metadata": {
    "scrolled": false
   },
   "outputs": [
    {
     "data": {
      "image/png": "[encoded data removed]",
      "text/plain": [
       "<Figure size 432x288 with 1 Axes>"
      ]
     },
     "metadata": {
      "needs_background": "light"
     },
     "output_type": "display_data"
    }
   ],
   "source": [
    "pos_class = [1,2,3,4,5,6,7,8,9,10]\n",
    "\n",
    "plt.plot(pos_class, train_mean, label='Train')\n",
    "plt.plot(pos_class, test_mean, label='Test')\n",
    "plt.xlabel('N Neighbors')\n",
    "plt.ylabel('Score')\n",
    "plt.title('KNN')\n",
    "plt.legend()\n",
    "plt.show()"
   ]
  },
  {
   "cell_type": "code",
   "execution_count": 45,
   "metadata": {},
   "outputs": [
    {
     "data": {
      "image/png": "[encoded data removed]",
      "text/plain": [
       "<Figure size 432x288 with 1 Axes>"
      ]
     },
     "metadata": {
      "needs_background": "light"
     },
     "output_type": "display_data"
    }
   ],
   "source": [
    "data.groupby('attacktype1_txt').weaptype1_txt.count().plot.bar(ylim=0)\n",
    "plt.xlabel(\"Attack Type\")\n",
    "plt.tight_layout()\n",
    "\n",
    "plt.show()"
   ]
  },
  {
   "cell_type": "markdown",
   "metadata": {},
   "source": [
    "## Decision Tree"
   ]
  },
  {
   "cell_type": "code",
   "execution_count": 50,
   "metadata": {},
   "outputs": [
    {
     "data": {
      "text/plain": [
       "DecisionTreeClassifier(class_weight=None, criterion='gini', max_depth=5,\n",
       "                       max_features=None, max_leaf_nodes=None,\n",
       "                       min_impurity_decrease=0.0, min_impurity_split=None,\n",
       "                       min_samples_leaf=1, min_samples_split=2,\n",
       "                       min_weight_fraction_leaf=0.0, presort=False,\n",
       "                       random_state=None, splitter='best')"
      ]
     },
     "execution_count": 50,
     "metadata": {},
     "output_type": "execute_result"
    }
   ],
   "source": [
    "dtc = tree.DecisionTreeClassifier(max_depth = 5)\n",
    "dtc.fit(X, y)"
   ]
  },
  {
   "cell_type": "code",
   "execution_count": 51,
   "metadata": {},
   "outputs": [
    {
     "name": "stdout",
     "output_type": "stream",
     "text": [
      "The accuracy score for Decision Tree Classifier is: 85.237 %\n"
     ]
    },
    {
     "name": "stderr",
     "output_type": "stream",
     "text": [
      "/Users/digvijayghotane/anaconda3/lib/python3.7/site-packages/sklearn/model_selection/_split.py:657: Warning: The least populated class in y has only 1 members, which is too few. The minimum number of members in any class cannot be less than n_splits=10.\n",
      "  % (min_groups, self.n_splits)), Warning)\n"
     ]
    }
   ],
   "source": [
    "print(\"The accuracy score for Decision Tree Classifier is:\", round(cross_val_score(dtc, X, y, cv=10).mean()*100, 3), \"%\") "
   ]
  },
  {
   "cell_type": "code",
   "execution_count": 52,
   "metadata": {
    "scrolled": true
   },
   "outputs": [
    {
     "name": "stderr",
     "output_type": "stream",
     "text": [
      "/Users/digvijayghotane/anaconda3/lib/python3.7/site-packages/sklearn/model_selection/_split.py:657: Warning: The least populated class in y has only 1 members, which is too few. The minimum number of members in any class cannot be less than n_splits=10.\n",
      "  % (min_groups, self.n_splits)), Warning)\n"
     ]
    },
    {
     "data": {
      "image/png": "[encoded data removed]",
      "text/plain": [
       "<Figure size 432x288 with 1 Axes>"
      ]
     },
     "metadata": {
      "needs_background": "light"
     },
     "output_type": "display_data"
    }
   ],
   "source": [
    "depth = np.arange(1,11)\n",
    "train_scores, test_scores = validation_curve(dtc,\n",
    "                                             X,\n",
    "                                             y,\n",
    "                                             param_name=\"max_depth\",\n",
    "                                             param_range=depth,\n",
    "                                            cv = 10)\n",
    "train_mean = np.mean(train_scores, axis=1)\n",
    "test_mean = np.mean(test_scores, axis=1)\n",
    "\n",
    "plt.plot(depth, train_mean, label='Train')\n",
    "plt.plot(depth, test_mean, label='Test')\n",
    "plt.xlabel('Depth')\n",
    "plt.ylabel('Accuracy')\n",
    "plt.title('Decision Tree Classifier')\n",
    "plt.legend()\n",
    "plt.show()"
   ]
  },
  {
   "cell_type": "code",
   "execution_count": 49,
   "metadata": {},
   "outputs": [
    {
     "data": {
      "image/svg+xml": [
       "<?xml version=\"1.0\" encoding=\"UTF-8\" standalone=\"no\"?>\n",
       "<!DOCTYPE svg PUBLIC \"-//W3C//DTD SVG 1.1//EN\"\n",
       " \"http://www.w3.org/Graphics/SVG/1.1/DTD/svg11.dtd\">\n",
       "<!-- Generated by graphviz version 2.40.1 (20161225.0304)\n",
       " -->\n",
       "<!-- Title: Tree Pages: 1 -->\n",
       "<svg width=\"3335pt\" height=\"671pt\"\n",
       " viewBox=\"0.00 0.00 3334.50 671.00\" xmlns=\"http://www.w3.org/2000/svg\" xmlns:xlink=\"http://www.w3.org/1999/xlink\">\n",
       "<g id=\"graph0\" class=\"graph\" transform=\"scale(1 1) rotate(0) translate(4 667)\">\n",
       "<title>Tree</title>\n",
       "<polygon fill=\"#ffffff\" stroke=\"transparent\" points=\"-4,4 -4,-667 3330.5,-667 3330.5,4 -4,4\"/>\n",
       "<!-- 0 -->\n",
       "<g id=\"node1\" class=\"node\">\n",
       "<title>0</title>\n",
       "<polygon fill=\"none\" stroke=\"#000000\" points=\"1929.5,-663 1721.5,-663 1721.5,-580 1929.5,-580 1929.5,-663\"/>\n",
       "<text text-anchor=\"middle\" x=\"1825.5\" y=\"-647.8\" font-family=\"Times,serif\" font-size=\"14.00\" fill=\"#000000\">weaptype1_txt_Explosives &lt;= 0.5</text>\n",
       "<text text-anchor=\"middle\" x=\"1825.5\" y=\"-632.8\" font-family=\"Times,serif\" font-size=\"14.00\" fill=\"#000000\">gini = 0.376</text>\n",
       "<text text-anchor=\"middle\" x=\"1825.5\" y=\"-617.8\" font-family=\"Times,serif\" font-size=\"14.00\" fill=\"#000000\">samples = 1009</text>\n",
       "<text text-anchor=\"middle\" x=\"1825.5\" y=\"-602.8\" font-family=\"Times,serif\" font-size=\"14.00\" fill=\"#000000\">value = [112, 19, 784, 5, 3, 85, 1]</text>\n",
       "<text text-anchor=\"middle\" x=\"1825.5\" y=\"-587.8\" font-family=\"Times,serif\" font-size=\"14.00\" fill=\"#000000\">class = Bombing/Explosion</text>\n",
       "</g>\n",
       "<!-- 1 -->\n",
       "<g id=\"node2\" class=\"node\">\n",
       "<title>1</title>\n",
       "<polygon fill=\"none\" stroke=\"#000000\" points=\"1406,-544 1179,-544 1179,-461 1406,-461 1406,-544\"/>\n",
       "<text text-anchor=\"middle\" x=\"1292.5\" y=\"-528.8\" font-family=\"Times,serif\" font-size=\"14.00\" fill=\"#000000\">weaptype1_txt_Firearms &lt;= 0.5</text>\n",
       "<text text-anchor=\"middle\" x=\"1292.5\" y=\"-513.8\" font-family=\"Times,serif\" font-size=\"14.00\" fill=\"#000000\">gini = 0.642</text>\n",
       "<text text-anchor=\"middle\" x=\"1292.5\" y=\"-498.8\" font-family=\"Times,serif\" font-size=\"14.00\" fill=\"#000000\">samples = 130</text>\n",
       "<text text-anchor=\"middle\" x=\"1292.5\" y=\"-483.8\" font-family=\"Times,serif\" font-size=\"14.00\" fill=\"#000000\">value = [54, 7, 6, 5, 2, 55, 1]</text>\n",
       "<text text-anchor=\"middle\" x=\"1292.5\" y=\"-468.8\" font-family=\"Times,serif\" font-size=\"14.00\" fill=\"#000000\">class = Hostage Taking (Kidnapping)</text>\n",
       "</g>\n",
       "<!-- 0&#45;&gt;1 -->\n",
       "<g id=\"edge1\" class=\"edge\">\n",
       "<title>0&#45;&gt;1</title>\n",
       "<path fill=\"none\" stroke=\"#000000\" d=\"M1721.4669,-598.2731C1634.0681,-578.76 1508.9712,-550.8303 1416.4059,-530.1638\"/>\n",
       "<polygon fill=\"#000000\" stroke=\"#000000\" points=\"1416.9428,-526.6976 1406.4204,-527.9344 1415.4174,-533.5294 1416.9428,-526.6976\"/>\n",
       "<text text-anchor=\"middle\" x=\"1419.8213\" y=\"-545.3392\" font-family=\"Times,serif\" font-size=\"14.00\" fill=\"#000000\">True</text>\n",
       "</g>\n",
       "<!-- 22 -->\n",
       "<g id=\"node23\" class=\"node\">\n",
       "<title>22</title>\n",
       "<polygon fill=\"none\" stroke=\"#000000\" points=\"2618.5,-544 2338.5,-544 2338.5,-461 2618.5,-461 2618.5,-544\"/>\n",
       "<text text-anchor=\"middle\" x=\"2478.5\" y=\"-528.8\" font-family=\"Times,serif\" font-size=\"14.00\" fill=\"#000000\">gname_Aleppo Fatah Operations Room &lt;= 0.5</text>\n",
       "<text text-anchor=\"middle\" x=\"2478.5\" y=\"-513.8\" font-family=\"Times,serif\" font-size=\"14.00\" fill=\"#000000\">gini = 0.211</text>\n",
       "<text text-anchor=\"middle\" x=\"2478.5\" y=\"-498.8\" font-family=\"Times,serif\" font-size=\"14.00\" fill=\"#000000\">samples = 879</text>\n",
       "<text text-anchor=\"middle\" x=\"2478.5\" y=\"-483.8\" font-family=\"Times,serif\" font-size=\"14.00\" fill=\"#000000\">value = [58, 12, 778, 0, 1, 30, 0]</text>\n",
       "<text text-anchor=\"middle\" x=\"2478.5\" y=\"-468.8\" font-family=\"Times,serif\" font-size=\"14.00\" fill=\"#000000\">class = Bombing/Explosion</text>\n",
       "</g>\n",
       "<!-- 0&#45;&gt;22 -->\n",
       "<g id=\"edge22\" class=\"edge\">\n",
       "<title>0&#45;&gt;22</title>\n",
       "<path fill=\"none\" stroke=\"#000000\" d=\"M1929.6918,-602.5125C2037.3005,-582.9024 2206.2641,-552.1111 2328.2968,-529.8724\"/>\n",
       "<polygon fill=\"#000000\" stroke=\"#000000\" points=\"2329.2645,-533.2538 2338.475,-528.0176 2328.0095,-526.3672 2329.2645,-533.2538\"/>\n",
       "<text text-anchor=\"middle\" x=\"2324.2531\" y=\"-544.8781\" font-family=\"Times,serif\" font-size=\"14.00\" fill=\"#000000\">False</text>\n",
       "</g>\n",
       "<!-- 2 -->\n",
       "<g id=\"node3\" class=\"node\">\n",
       "<title>2</title>\n",
       "<polygon fill=\"none\" stroke=\"#000000\" points=\"1020,-425 793,-425 793,-342 1020,-342 1020,-425\"/>\n",
       "<text text-anchor=\"middle\" x=\"906.5\" y=\"-409.8\" font-family=\"Times,serif\" font-size=\"14.00\" fill=\"#000000\">weaptype1_txt_Chemical &lt;= 0.5</text>\n",
       "<text text-anchor=\"middle\" x=\"906.5\" y=\"-394.8\" font-family=\"Times,serif\" font-size=\"14.00\" fill=\"#000000\">gini = 0.607</text>\n",
       "<text text-anchor=\"middle\" x=\"906.5\" y=\"-379.8\" font-family=\"Times,serif\" font-size=\"14.00\" fill=\"#000000\">samples = 39</text>\n",
       "<text text-anchor=\"middle\" x=\"906.5\" y=\"-364.8\" font-family=\"Times,serif\" font-size=\"14.00\" fill=\"#000000\">value = [1, 1, 6, 5, 2, 23, 1]</text>\n",
       "<text text-anchor=\"middle\" x=\"906.5\" y=\"-349.8\" font-family=\"Times,serif\" font-size=\"14.00\" fill=\"#000000\">class = Hostage Taking (Kidnapping)</text>\n",
       "</g>\n",
       "<!-- 1&#45;&gt;2 -->\n",
       "<g id=\"edge2\" class=\"edge\">\n",
       "<title>1&#45;&gt;2</title>\n",
       "<path fill=\"none\" stroke=\"#000000\" d=\"M1178.775,-467.4397C1131.9637,-453.0082 1077.6215,-436.2551 1029.8531,-421.5286\"/>\n",
       "<polygon fill=\"#000000\" stroke=\"#000000\" points=\"1030.6659,-418.1166 1020.0786,-418.5152 1028.6036,-424.806 1030.6659,-418.1166\"/>\n",
       "</g>\n",
       "<!-- 9 -->\n",
       "<g id=\"node10\" class=\"node\">\n",
       "<title>9</title>\n",
       "<polygon fill=\"none\" stroke=\"#000000\" points=\"1439.5,-425 1145.5,-425 1145.5,-342 1439.5,-342 1439.5,-425\"/>\n",
       "<text text-anchor=\"middle\" x=\"1292.5\" y=\"-409.8\" font-family=\"Times,serif\" font-size=\"14.00\" fill=\"#000000\">targtype1_txt_Private Citizens &amp; Property &lt;= 0.5</text>\n",
       "<text text-anchor=\"middle\" x=\"1292.5\" y=\"-394.8\" font-family=\"Times,serif\" font-size=\"14.00\" fill=\"#000000\">gini = 0.533</text>\n",
       "<text text-anchor=\"middle\" x=\"1292.5\" y=\"-379.8\" font-family=\"Times,serif\" font-size=\"14.00\" fill=\"#000000\">samples = 91</text>\n",
       "<text text-anchor=\"middle\" x=\"1292.5\" y=\"-364.8\" font-family=\"Times,serif\" font-size=\"14.00\" fill=\"#000000\">value = [53, 6, 0, 0, 0, 32, 0]</text>\n",
       "<text text-anchor=\"middle\" x=\"1292.5\" y=\"-349.8\" font-family=\"Times,serif\" font-size=\"14.00\" fill=\"#000000\">class = Armed Assault</text>\n",
       "</g>\n",
       "<!-- 1&#45;&gt;9 -->\n",
       "<g id=\"edge9\" class=\"edge\">\n",
       "<title>1&#45;&gt;9</title>\n",
       "<path fill=\"none\" stroke=\"#000000\" d=\"M1292.5,-460.8796C1292.5,-452.6838 1292.5,-443.9891 1292.5,-435.5013\"/>\n",
       "<polygon fill=\"#000000\" stroke=\"#000000\" points=\"1296.0001,-435.298 1292.5,-425.2981 1289.0001,-435.2981 1296.0001,-435.298\"/>\n",
       "</g>\n",
       "<!-- 3 -->\n",
       "<g id=\"node4\" class=\"node\">\n",
       "<title>3</title>\n",
       "<polygon fill=\"none\" stroke=\"#000000\" points=\"745,-306 518,-306 518,-223 745,-223 745,-306\"/>\n",
       "<text text-anchor=\"middle\" x=\"631.5\" y=\"-290.8\" font-family=\"Times,serif\" font-size=\"14.00\" fill=\"#000000\">city_Umm Tababir &lt;= 0.5</text>\n",
       "<text text-anchor=\"middle\" x=\"631.5\" y=\"-275.8\" font-family=\"Times,serif\" font-size=\"14.00\" fill=\"#000000\">gini = 0.485</text>\n",
       "<text text-anchor=\"middle\" x=\"631.5\" y=\"-260.8\" font-family=\"Times,serif\" font-size=\"14.00\" fill=\"#000000\">samples = 33</text>\n",
       "<text text-anchor=\"middle\" x=\"631.5\" y=\"-245.8\" font-family=\"Times,serif\" font-size=\"14.00\" fill=\"#000000\">value = [1, 1, 0, 5, 2, 23, 1]</text>\n",
       "<text text-anchor=\"middle\" x=\"631.5\" y=\"-230.8\" font-family=\"Times,serif\" font-size=\"14.00\" fill=\"#000000\">class = Hostage Taking (Kidnapping)</text>\n",
       "</g>\n",
       "<!-- 2&#45;&gt;3 -->\n",
       "<g id=\"edge3\" class=\"edge\">\n",
       "<title>2&#45;&gt;3</title>\n",
       "<path fill=\"none\" stroke=\"#000000\" d=\"M810.3183,-341.8796C786.5583,-331.598 760.9837,-320.5311 736.8148,-310.0726\"/>\n",
       "<polygon fill=\"#000000\" stroke=\"#000000\" points=\"738.1949,-306.8562 727.6273,-306.0969 735.4149,-313.2805 738.1949,-306.8562\"/>\n",
       "</g>\n",
       "<!-- 8 -->\n",
       "<g id=\"node9\" class=\"node\">\n",
       "<title>8</title>\n",
       "<polygon fill=\"none\" stroke=\"#000000\" points=\"992,-298.5 821,-298.5 821,-230.5 992,-230.5 992,-298.5\"/>\n",
       "<text text-anchor=\"middle\" x=\"906.5\" y=\"-283.3\" font-family=\"Times,serif\" font-size=\"14.00\" fill=\"#000000\">gini = 0.0</text>\n",
       "<text text-anchor=\"middle\" x=\"906.5\" y=\"-268.3\" font-family=\"Times,serif\" font-size=\"14.00\" fill=\"#000000\">samples = 6</text>\n",
       "<text text-anchor=\"middle\" x=\"906.5\" y=\"-253.3\" font-family=\"Times,serif\" font-size=\"14.00\" fill=\"#000000\">value = [0, 0, 6, 0, 0, 0, 0]</text>\n",
       "<text text-anchor=\"middle\" x=\"906.5\" y=\"-238.3\" font-family=\"Times,serif\" font-size=\"14.00\" fill=\"#000000\">class = Bombing/Explosion</text>\n",
       "</g>\n",
       "<!-- 2&#45;&gt;8 -->\n",
       "<g id=\"edge8\" class=\"edge\">\n",
       "<title>2&#45;&gt;8</title>\n",
       "<path fill=\"none\" stroke=\"#000000\" d=\"M906.5,-341.8796C906.5,-331.2134 906.5,-319.7021 906.5,-308.9015\"/>\n",
       "<polygon fill=\"#000000\" stroke=\"#000000\" points=\"910.0001,-308.8149 906.5,-298.8149 903.0001,-308.815 910.0001,-308.8149\"/>\n",
       "</g>\n",
       "<!-- 4 -->\n",
       "<g id=\"node5\" class=\"node\">\n",
       "<title>4</title>\n",
       "<polygon fill=\"none\" stroke=\"#000000\" points=\"481,-187 176,-187 176,-104 481,-104 481,-187\"/>\n",
       "<text text-anchor=\"middle\" x=\"328.5\" y=\"-171.8\" font-family=\"Times,serif\" font-size=\"14.00\" fill=\"#000000\">targtype1_txt_Religious Figures/Institutions &lt;= 0.5</text>\n",
       "<text text-anchor=\"middle\" x=\"328.5\" y=\"-156.8\" font-family=\"Times,serif\" font-size=\"14.00\" fill=\"#000000\">gini = 0.42</text>\n",
       "<text text-anchor=\"middle\" x=\"328.5\" y=\"-141.8\" font-family=\"Times,serif\" font-size=\"14.00\" fill=\"#000000\">samples = 31</text>\n",
       "<text text-anchor=\"middle\" x=\"328.5\" y=\"-126.8\" font-family=\"Times,serif\" font-size=\"14.00\" fill=\"#000000\">value = [1, 1, 0, 5, 0, 23, 1]</text>\n",
       "<text text-anchor=\"middle\" x=\"328.5\" y=\"-111.8\" font-family=\"Times,serif\" font-size=\"14.00\" fill=\"#000000\">class = Hostage Taking (Kidnapping)</text>\n",
       "</g>\n",
       "<!-- 3&#45;&gt;4 -->\n",
       "<g id=\"edge4\" class=\"edge\">\n",
       "<title>3&#45;&gt;4</title>\n",
       "<path fill=\"none\" stroke=\"#000000\" d=\"M525.5253,-222.8796C499.1154,-212.5074 470.6708,-201.3361 443.8342,-190.7963\"/>\n",
       "<polygon fill=\"#000000\" stroke=\"#000000\" points=\"445.0022,-187.4948 434.4149,-187.0969 442.4433,-194.0103 445.0022,-187.4948\"/>\n",
       "</g>\n",
       "<!-- 7 -->\n",
       "<g id=\"node8\" class=\"node\">\n",
       "<title>7</title>\n",
       "<polygon fill=\"none\" stroke=\"#000000\" points=\"763.5,-179.5 499.5,-179.5 499.5,-111.5 763.5,-111.5 763.5,-179.5\"/>\n",
       "<text text-anchor=\"middle\" x=\"631.5\" y=\"-164.3\" font-family=\"Times,serif\" font-size=\"14.00\" fill=\"#000000\">gini = 0.0</text>\n",
       "<text text-anchor=\"middle\" x=\"631.5\" y=\"-149.3\" font-family=\"Times,serif\" font-size=\"14.00\" fill=\"#000000\">samples = 2</text>\n",
       "<text text-anchor=\"middle\" x=\"631.5\" y=\"-134.3\" font-family=\"Times,serif\" font-size=\"14.00\" fill=\"#000000\">value = [0, 0, 0, 0, 2, 0, 0]</text>\n",
       "<text text-anchor=\"middle\" x=\"631.5\" y=\"-119.3\" font-family=\"Times,serif\" font-size=\"14.00\" fill=\"#000000\">class = Hostage Taking (Barricade Incident)</text>\n",
       "</g>\n",
       "<!-- 3&#45;&gt;7 -->\n",
       "<g id=\"edge7\" class=\"edge\">\n",
       "<title>3&#45;&gt;7</title>\n",
       "<path fill=\"none\" stroke=\"#000000\" d=\"M631.5,-222.8796C631.5,-212.2134 631.5,-200.7021 631.5,-189.9015\"/>\n",
       "<polygon fill=\"#000000\" stroke=\"#000000\" points=\"635.0001,-189.8149 631.5,-179.8149 628.0001,-189.815 635.0001,-189.8149\"/>\n",
       "</g>\n",
       "<!-- 5 -->\n",
       "<g id=\"node6\" class=\"node\">\n",
       "<title>5</title>\n",
       "<polygon fill=\"none\" stroke=\"#000000\" points=\"227,-68 0,-68 0,0 227,0 227,-68\"/>\n",
       "<text text-anchor=\"middle\" x=\"113.5\" y=\"-52.8\" font-family=\"Times,serif\" font-size=\"14.00\" fill=\"#000000\">gini = 0.311</text>\n",
       "<text text-anchor=\"middle\" x=\"113.5\" y=\"-37.8\" font-family=\"Times,serif\" font-size=\"14.00\" fill=\"#000000\">samples = 28</text>\n",
       "<text text-anchor=\"middle\" x=\"113.5\" y=\"-22.8\" font-family=\"Times,serif\" font-size=\"14.00\" fill=\"#000000\">value = [1, 0, 0, 3, 0, 23, 1]</text>\n",
       "<text text-anchor=\"middle\" x=\"113.5\" y=\"-7.8\" font-family=\"Times,serif\" font-size=\"14.00\" fill=\"#000000\">class = Hostage Taking (Kidnapping)</text>\n",
       "</g>\n",
       "<!-- 4&#45;&gt;5 -->\n",
       "<g id=\"edge5\" class=\"edge\">\n",
       "<title>4&#45;&gt;5</title>\n",
       "<path fill=\"none\" stroke=\"#000000\" d=\"M248.4419,-103.9815C228.7562,-93.7724 207.7546,-82.8809 188.3264,-72.8053\"/>\n",
       "<polygon fill=\"#000000\" stroke=\"#000000\" points=\"189.7142,-69.5824 179.2256,-68.0856 186.4916,-75.7965 189.7142,-69.5824\"/>\n",
       "</g>\n",
       "<!-- 6 -->\n",
       "<g id=\"node7\" class=\"node\">\n",
       "<title>6</title>\n",
       "<polygon fill=\"none\" stroke=\"#000000\" points=\"467.5,-68 245.5,-68 245.5,0 467.5,0 467.5,-68\"/>\n",
       "<text text-anchor=\"middle\" x=\"356.5\" y=\"-52.8\" font-family=\"Times,serif\" font-size=\"14.00\" fill=\"#000000\">gini = 0.444</text>\n",
       "<text text-anchor=\"middle\" x=\"356.5\" y=\"-37.8\" font-family=\"Times,serif\" font-size=\"14.00\" fill=\"#000000\">samples = 3</text>\n",
       "<text text-anchor=\"middle\" x=\"356.5\" y=\"-22.8\" font-family=\"Times,serif\" font-size=\"14.00\" fill=\"#000000\">value = [0, 1, 0, 2, 0, 0, 0]</text>\n",
       "<text text-anchor=\"middle\" x=\"356.5\" y=\"-7.8\" font-family=\"Times,serif\" font-size=\"14.00\" fill=\"#000000\">class = Facility/Infrastructure Attack</text>\n",
       "</g>\n",
       "<!-- 4&#45;&gt;6 -->\n",
       "<g id=\"edge6\" class=\"edge\">\n",
       "<title>4&#45;&gt;6</title>\n",
       "<path fill=\"none\" stroke=\"#000000\" d=\"M338.9262,-103.9815C341.0495,-95.5261 343.2904,-86.6026 345.435,-78.0623\"/>\n",
       "<polygon fill=\"#000000\" stroke=\"#000000\" points=\"348.8546,-78.815 347.8957,-68.2637 342.0654,-77.1101 348.8546,-78.815\"/>\n",
       "</g>\n",
       "<!-- 10 -->\n",
       "<g id=\"node11\" class=\"node\">\n",
       "<title>10</title>\n",
       "<polygon fill=\"none\" stroke=\"#000000\" points=\"1295,-306 1068,-306 1068,-223 1295,-223 1295,-306\"/>\n",
       "<text text-anchor=\"middle\" x=\"1181.5\" y=\"-290.8\" font-family=\"Times,serif\" font-size=\"14.00\" fill=\"#000000\">targtype1_txt_Military &lt;= 0.5</text>\n",
       "<text text-anchor=\"middle\" x=\"1181.5\" y=\"-275.8\" font-family=\"Times,serif\" font-size=\"14.00\" fill=\"#000000\">gini = 0.58</text>\n",
       "<text text-anchor=\"middle\" x=\"1181.5\" y=\"-260.8\" font-family=\"Times,serif\" font-size=\"14.00\" fill=\"#000000\">samples = 53</text>\n",
       "<text text-anchor=\"middle\" x=\"1181.5\" y=\"-245.8\" font-family=\"Times,serif\" font-size=\"14.00\" fill=\"#000000\">value = [23, 5, 0, 0, 0, 25, 0]</text>\n",
       "<text text-anchor=\"middle\" x=\"1181.5\" y=\"-230.8\" font-family=\"Times,serif\" font-size=\"14.00\" fill=\"#000000\">class = Hostage Taking (Kidnapping)</text>\n",
       "</g>\n",
       "<!-- 9&#45;&gt;10 -->\n",
       "<g id=\"edge10\" class=\"edge\">\n",
       "<title>9&#45;&gt;10</title>\n",
       "<path fill=\"none\" stroke=\"#000000\" d=\"M1253.6776,-341.8796C1245.1927,-332.7832 1236.1346,-323.0722 1227.4032,-313.7116\"/>\n",
       "<polygon fill=\"#000000\" stroke=\"#000000\" points=\"1229.8686,-311.2233 1220.4881,-306.2981 1224.7497,-315.9981 1229.8686,-311.2233\"/>\n",
       "</g>\n",
       "<!-- 17 -->\n",
       "<g id=\"node18\" class=\"node\">\n",
       "<title>17</title>\n",
       "<polygon fill=\"none\" stroke=\"#000000\" points=\"1568,-306 1399,-306 1399,-223 1568,-223 1568,-306\"/>\n",
       "<text text-anchor=\"middle\" x=\"1483.5\" y=\"-290.8\" font-family=\"Times,serif\" font-size=\"14.00\" fill=\"#000000\">city_Mabouja &lt;= 0.5</text>\n",
       "<text text-anchor=\"middle\" x=\"1483.5\" y=\"-275.8\" font-family=\"Times,serif\" font-size=\"14.00\" fill=\"#000000\">gini = 0.342</text>\n",
       "<text text-anchor=\"middle\" x=\"1483.5\" y=\"-260.8\" font-family=\"Times,serif\" font-size=\"14.00\" fill=\"#000000\">samples = 38</text>\n",
       "<text text-anchor=\"middle\" x=\"1483.5\" y=\"-245.8\" font-family=\"Times,serif\" font-size=\"14.00\" fill=\"#000000\">value = [30, 1, 0, 0, 0, 7, 0]</text>\n",
       "<text text-anchor=\"middle\" x=\"1483.5\" y=\"-230.8\" font-family=\"Times,serif\" font-size=\"14.00\" fill=\"#000000\">class = Armed Assault</text>\n",
       "</g>\n",
       "<!-- 9&#45;&gt;17 -->\n",
       "<g id=\"edge17\" class=\"edge\">\n",
       "<title>9&#45;&gt;17</title>\n",
       "<path fill=\"none\" stroke=\"#000000\" d=\"M1359.3025,-341.8796C1375.0053,-332.0962 1391.8491,-321.6019 1407.9071,-311.5971\"/>\n",
       "<polygon fill=\"#000000\" stroke=\"#000000\" points=\"1410.0985,-314.3556 1416.7352,-306.0969 1406.3969,-308.4144 1410.0985,-314.3556\"/>\n",
       "</g>\n",
       "<!-- 11 -->\n",
       "<g id=\"node12\" class=\"node\">\n",
       "<title>11</title>\n",
       "<polygon fill=\"none\" stroke=\"#000000\" points=\"1009,-187 782,-187 782,-104 1009,-104 1009,-187\"/>\n",
       "<text text-anchor=\"middle\" x=\"895.5\" y=\"-171.8\" font-family=\"Times,serif\" font-size=\"14.00\" fill=\"#000000\">gname_Gunmen &lt;= 0.5</text>\n",
       "<text text-anchor=\"middle\" x=\"895.5\" y=\"-156.8\" font-family=\"Times,serif\" font-size=\"14.00\" fill=\"#000000\">gini = 0.442</text>\n",
       "<text text-anchor=\"middle\" x=\"895.5\" y=\"-141.8\" font-family=\"Times,serif\" font-size=\"14.00\" fill=\"#000000\">samples = 25</text>\n",
       "<text text-anchor=\"middle\" x=\"895.5\" y=\"-126.8\" font-family=\"Times,serif\" font-size=\"14.00\" fill=\"#000000\">value = [3, 4, 0, 0, 0, 18, 0]</text>\n",
       "<text text-anchor=\"middle\" x=\"895.5\" y=\"-111.8\" font-family=\"Times,serif\" font-size=\"14.00\" fill=\"#000000\">class = Hostage Taking (Kidnapping)</text>\n",
       "</g>\n",
       "<!-- 10&#45;&gt;11 -->\n",
       "<g id=\"edge11\" class=\"edge\">\n",
       "<title>10&#45;&gt;11</title>\n",
       "<path fill=\"none\" stroke=\"#000000\" d=\"M1081.4711,-222.8796C1056.7607,-212.598 1030.1631,-201.5311 1005.0274,-191.0726\"/>\n",
       "<polygon fill=\"#000000\" stroke=\"#000000\" points=\"1006.0497,-187.7071 995.4724,-187.0969 1003.3606,-194.17 1006.0497,-187.7071\"/>\n",
       "</g>\n",
       "<!-- 14 -->\n",
       "<g id=\"node15\" class=\"node\">\n",
       "<title>14</title>\n",
       "<polygon fill=\"none\" stroke=\"#000000\" points=\"1278.5,-187 1084.5,-187 1084.5,-104 1278.5,-104 1278.5,-187\"/>\n",
       "<text text-anchor=\"middle\" x=\"1181.5\" y=\"-171.8\" font-family=\"Times,serif\" font-size=\"14.00\" fill=\"#000000\">gname_Al&#45;Nusrah Front &lt;= 0.5</text>\n",
       "<text text-anchor=\"middle\" x=\"1181.5\" y=\"-156.8\" font-family=\"Times,serif\" font-size=\"14.00\" fill=\"#000000\">gini = 0.426</text>\n",
       "<text text-anchor=\"middle\" x=\"1181.5\" y=\"-141.8\" font-family=\"Times,serif\" font-size=\"14.00\" fill=\"#000000\">samples = 28</text>\n",
       "<text text-anchor=\"middle\" x=\"1181.5\" y=\"-126.8\" font-family=\"Times,serif\" font-size=\"14.00\" fill=\"#000000\">value = [20, 1, 0, 0, 0, 7, 0]</text>\n",
       "<text text-anchor=\"middle\" x=\"1181.5\" y=\"-111.8\" font-family=\"Times,serif\" font-size=\"14.00\" fill=\"#000000\">class = Armed Assault</text>\n",
       "</g>\n",
       "<!-- 10&#45;&gt;14 -->\n",
       "<g id=\"edge14\" class=\"edge\">\n",
       "<title>10&#45;&gt;14</title>\n",
       "<path fill=\"none\" stroke=\"#000000\" d=\"M1181.5,-222.8796C1181.5,-214.6838 1181.5,-205.9891 1181.5,-197.5013\"/>\n",
       "<polygon fill=\"#000000\" stroke=\"#000000\" points=\"1185.0001,-197.298 1181.5,-187.2981 1178.0001,-197.2981 1185.0001,-197.298\"/>\n",
       "</g>\n",
       "<!-- 12 -->\n",
       "<g id=\"node13\" class=\"node\">\n",
       "<title>12</title>\n",
       "<polygon fill=\"none\" stroke=\"#000000\" points=\"768,-68 541,-68 541,0 768,0 768,-68\"/>\n",
       "<text text-anchor=\"middle\" x=\"654.5\" y=\"-52.8\" font-family=\"Times,serif\" font-size=\"14.00\" fill=\"#000000\">gini = 0.355</text>\n",
       "<text text-anchor=\"middle\" x=\"654.5\" y=\"-37.8\" font-family=\"Times,serif\" font-size=\"14.00\" fill=\"#000000\">samples = 23</text>\n",
       "<text text-anchor=\"middle\" x=\"654.5\" y=\"-22.8\" font-family=\"Times,serif\" font-size=\"14.00\" fill=\"#000000\">value = [1, 4, 0, 0, 0, 18, 0]</text>\n",
       "<text text-anchor=\"middle\" x=\"654.5\" y=\"-7.8\" font-family=\"Times,serif\" font-size=\"14.00\" fill=\"#000000\">class = Hostage Taking (Kidnapping)</text>\n",
       "</g>\n",
       "<!-- 11&#45;&gt;12 -->\n",
       "<g id=\"edge12\" class=\"edge\">\n",
       "<title>11&#45;&gt;12</title>\n",
       "<path fill=\"none\" stroke=\"#000000\" d=\"M805.7605,-103.9815C783.3946,-93.6338 759.5134,-82.585 737.4893,-72.3954\"/>\n",
       "<polygon fill=\"#000000\" stroke=\"#000000\" points=\"738.7193,-69.1081 728.1739,-68.0856 735.78,-75.4611 738.7193,-69.1081\"/>\n",
       "</g>\n",
       "<!-- 13 -->\n",
       "<g id=\"node14\" class=\"node\">\n",
       "<title>13</title>\n",
       "<polygon fill=\"none\" stroke=\"#000000\" points=\"948.5,-68 786.5,-68 786.5,0 948.5,0 948.5,-68\"/>\n",
       "<text text-anchor=\"middle\" x=\"867.5\" y=\"-52.8\" font-family=\"Times,serif\" font-size=\"14.00\" fill=\"#000000\">gini = 0.0</text>\n",
       "<text text-anchor=\"middle\" x=\"867.5\" y=\"-37.8\" font-family=\"Times,serif\" font-size=\"14.00\" fill=\"#000000\">samples = 2</text>\n",
       "<text text-anchor=\"middle\" x=\"867.5\" y=\"-22.8\" font-family=\"Times,serif\" font-size=\"14.00\" fill=\"#000000\">value = [2, 0, 0, 0, 0, 0, 0]</text>\n",
       "<text text-anchor=\"middle\" x=\"867.5\" y=\"-7.8\" font-family=\"Times,serif\" font-size=\"14.00\" fill=\"#000000\">class = Armed Assault</text>\n",
       "</g>\n",
       "<!-- 11&#45;&gt;13 -->\n",
       "<g id=\"edge13\" class=\"edge\">\n",
       "<title>11&#45;&gt;13</title>\n",
       "<path fill=\"none\" stroke=\"#000000\" d=\"M885.0738,-103.9815C882.9505,-95.5261 880.7096,-86.6026 878.565,-78.0623\"/>\n",
       "<polygon fill=\"#000000\" stroke=\"#000000\" points=\"881.9346,-77.1101 876.1043,-68.2637 875.1454,-78.815 881.9346,-77.1101\"/>\n",
       "</g>\n",
       "<!-- 15 -->\n",
       "<g id=\"node16\" class=\"node\">\n",
       "<title>15</title>\n",
       "<polygon fill=\"none\" stroke=\"#000000\" points=\"1136,-68 967,-68 967,0 1136,0 1136,-68\"/>\n",
       "<text text-anchor=\"middle\" x=\"1051.5\" y=\"-52.8\" font-family=\"Times,serif\" font-size=\"14.00\" fill=\"#000000\">gini = 0.344</text>\n",
       "<text text-anchor=\"middle\" x=\"1051.5\" y=\"-37.8\" font-family=\"Times,serif\" font-size=\"14.00\" fill=\"#000000\">samples = 24</text>\n",
       "<text text-anchor=\"middle\" x=\"1051.5\" y=\"-22.8\" font-family=\"Times,serif\" font-size=\"14.00\" fill=\"#000000\">value = [19, 1, 0, 0, 0, 4, 0]</text>\n",
       "<text text-anchor=\"middle\" x=\"1051.5\" y=\"-7.8\" font-family=\"Times,serif\" font-size=\"14.00\" fill=\"#000000\">class = Armed Assault</text>\n",
       "</g>\n",
       "<!-- 14&#45;&gt;15 -->\n",
       "<g id=\"edge15\" class=\"edge\">\n",
       "<title>14&#45;&gt;15</title>\n",
       "<path fill=\"none\" stroke=\"#000000\" d=\"M1133.0928,-103.9815C1122.0558,-94.5151 1110.3347,-84.462 1099.3223,-75.0168\"/>\n",
       "<polygon fill=\"#000000\" stroke=\"#000000\" points=\"1101.3178,-72.1173 1091.4487,-68.2637 1096.7606,-77.4307 1101.3178,-72.1173\"/>\n",
       "</g>\n",
       "<!-- 16 -->\n",
       "<g id=\"node17\" class=\"node\">\n",
       "<title>16</title>\n",
       "<polygon fill=\"none\" stroke=\"#000000\" points=\"1381,-68 1154,-68 1154,0 1381,0 1381,-68\"/>\n",
       "<text text-anchor=\"middle\" x=\"1267.5\" y=\"-52.8\" font-family=\"Times,serif\" font-size=\"14.00\" fill=\"#000000\">gini = 0.375</text>\n",
       "<text text-anchor=\"middle\" x=\"1267.5\" y=\"-37.8\" font-family=\"Times,serif\" font-size=\"14.00\" fill=\"#000000\">samples = 4</text>\n",
       "<text text-anchor=\"middle\" x=\"1267.5\" y=\"-22.8\" font-family=\"Times,serif\" font-size=\"14.00\" fill=\"#000000\">value = [1, 0, 0, 0, 0, 3, 0]</text>\n",
       "<text text-anchor=\"middle\" x=\"1267.5\" y=\"-7.8\" font-family=\"Times,serif\" font-size=\"14.00\" fill=\"#000000\">class = Hostage Taking (Kidnapping)</text>\n",
       "</g>\n",
       "<!-- 14&#45;&gt;16 -->\n",
       "<g id=\"edge16\" class=\"edge\">\n",
       "<title>14&#45;&gt;16</title>\n",
       "<path fill=\"none\" stroke=\"#000000\" d=\"M1213.5232,-103.9815C1220.4702,-94.9747 1227.8269,-85.4367 1234.7996,-76.3965\"/>\n",
       "<polygon fill=\"#000000\" stroke=\"#000000\" points=\"1237.7364,-78.3196 1241.0724,-68.2637 1232.1936,-74.0444 1237.7364,-78.3196\"/>\n",
       "</g>\n",
       "<!-- 18 -->\n",
       "<g id=\"node19\" class=\"node\">\n",
       "<title>18</title>\n",
       "<polygon fill=\"none\" stroke=\"#000000\" points=\"1568,-187 1399,-187 1399,-104 1568,-104 1568,-187\"/>\n",
       "<text text-anchor=\"middle\" x=\"1483.5\" y=\"-171.8\" font-family=\"Times,serif\" font-size=\"14.00\" fill=\"#000000\">city_Aleppo &lt;= 0.5</text>\n",
       "<text text-anchor=\"middle\" x=\"1483.5\" y=\"-156.8\" font-family=\"Times,serif\" font-size=\"14.00\" fill=\"#000000\">gini = 0.316</text>\n",
       "<text text-anchor=\"middle\" x=\"1483.5\" y=\"-141.8\" font-family=\"Times,serif\" font-size=\"14.00\" fill=\"#000000\">samples = 37</text>\n",
       "<text text-anchor=\"middle\" x=\"1483.5\" y=\"-126.8\" font-family=\"Times,serif\" font-size=\"14.00\" fill=\"#000000\">value = [30, 1, 0, 0, 0, 6, 0]</text>\n",
       "<text text-anchor=\"middle\" x=\"1483.5\" y=\"-111.8\" font-family=\"Times,serif\" font-size=\"14.00\" fill=\"#000000\">class = Armed Assault</text>\n",
       "</g>\n",
       "<!-- 17&#45;&gt;18 -->\n",
       "<g id=\"edge18\" class=\"edge\">\n",
       "<title>17&#45;&gt;18</title>\n",
       "<path fill=\"none\" stroke=\"#000000\" d=\"M1483.5,-222.8796C1483.5,-214.6838 1483.5,-205.9891 1483.5,-197.5013\"/>\n",
       "<polygon fill=\"#000000\" stroke=\"#000000\" points=\"1487.0001,-197.298 1483.5,-187.2981 1480.0001,-197.2981 1487.0001,-197.298\"/>\n",
       "</g>\n",
       "<!-- 21 -->\n",
       "<g id=\"node22\" class=\"node\">\n",
       "<title>21</title>\n",
       "<polygon fill=\"none\" stroke=\"#000000\" points=\"1813,-179.5 1586,-179.5 1586,-111.5 1813,-111.5 1813,-179.5\"/>\n",
       "<text text-anchor=\"middle\" x=\"1699.5\" y=\"-164.3\" font-family=\"Times,serif\" font-size=\"14.00\" fill=\"#000000\">gini = 0.0</text>\n",
       "<text text-anchor=\"middle\" x=\"1699.5\" y=\"-149.3\" font-family=\"Times,serif\" font-size=\"14.00\" fill=\"#000000\">samples = 1</text>\n",
       "<text text-anchor=\"middle\" x=\"1699.5\" y=\"-134.3\" font-family=\"Times,serif\" font-size=\"14.00\" fill=\"#000000\">value = [0, 0, 0, 0, 0, 1, 0]</text>\n",
       "<text text-anchor=\"middle\" x=\"1699.5\" y=\"-119.3\" font-family=\"Times,serif\" font-size=\"14.00\" fill=\"#000000\">class = Hostage Taking (Kidnapping)</text>\n",
       "</g>\n",
       "<!-- 17&#45;&gt;21 -->\n",
       "<g id=\"edge21\" class=\"edge\">\n",
       "<title>17&#45;&gt;21</title>\n",
       "<path fill=\"none\" stroke=\"#000000\" d=\"M1559.0463,-222.8796C1581.6074,-210.4501 1606.2515,-196.873 1628.5098,-184.6103\"/>\n",
       "<polygon fill=\"#000000\" stroke=\"#000000\" points=\"1630.4926,-187.5141 1637.5624,-179.623 1627.1147,-181.3829 1630.4926,-187.5141\"/>\n",
       "</g>\n",
       "<!-- 19 -->\n",
       "<g id=\"node20\" class=\"node\">\n",
       "<title>19</title>\n",
       "<polygon fill=\"none\" stroke=\"#000000\" points=\"1568,-68 1399,-68 1399,0 1568,0 1568,-68\"/>\n",
       "<text text-anchor=\"middle\" x=\"1483.5\" y=\"-52.8\" font-family=\"Times,serif\" font-size=\"14.00\" fill=\"#000000\">gini = 0.285</text>\n",
       "<text text-anchor=\"middle\" x=\"1483.5\" y=\"-37.8\" font-family=\"Times,serif\" font-size=\"14.00\" fill=\"#000000\">samples = 36</text>\n",
       "<text text-anchor=\"middle\" x=\"1483.5\" y=\"-22.8\" font-family=\"Times,serif\" font-size=\"14.00\" fill=\"#000000\">value = [30, 1, 0, 0, 0, 5, 0]</text>\n",
       "<text text-anchor=\"middle\" x=\"1483.5\" y=\"-7.8\" font-family=\"Times,serif\" font-size=\"14.00\" fill=\"#000000\">class = Armed Assault</text>\n",
       "</g>\n",
       "<!-- 18&#45;&gt;19 -->\n",
       "<g id=\"edge19\" class=\"edge\">\n",
       "<title>18&#45;&gt;19</title>\n",
       "<path fill=\"none\" stroke=\"#000000\" d=\"M1483.5,-103.9815C1483.5,-95.618 1483.5,-86.7965 1483.5,-78.3409\"/>\n",
       "<polygon fill=\"#000000\" stroke=\"#000000\" points=\"1487.0001,-78.2636 1483.5,-68.2637 1480.0001,-78.2637 1487.0001,-78.2636\"/>\n",
       "</g>\n",
       "<!-- 20 -->\n",
       "<g id=\"node21\" class=\"node\">\n",
       "<title>20</title>\n",
       "<polygon fill=\"none\" stroke=\"#000000\" points=\"1813,-68 1586,-68 1586,0 1813,0 1813,-68\"/>\n",
       "<text text-anchor=\"middle\" x=\"1699.5\" y=\"-52.8\" font-family=\"Times,serif\" font-size=\"14.00\" fill=\"#000000\">gini = 0.0</text>\n",
       "<text text-anchor=\"middle\" x=\"1699.5\" y=\"-37.8\" font-family=\"Times,serif\" font-size=\"14.00\" fill=\"#000000\">samples = 1</text>\n",
       "<text text-anchor=\"middle\" x=\"1699.5\" y=\"-22.8\" font-family=\"Times,serif\" font-size=\"14.00\" fill=\"#000000\">value = [0, 0, 0, 0, 0, 1, 0]</text>\n",
       "<text text-anchor=\"middle\" x=\"1699.5\" y=\"-7.8\" font-family=\"Times,serif\" font-size=\"14.00\" fill=\"#000000\">class = Hostage Taking (Kidnapping)</text>\n",
       "</g>\n",
       "<!-- 18&#45;&gt;20 -->\n",
       "<g id=\"edge20\" class=\"edge\">\n",
       "<title>18&#45;&gt;20</title>\n",
       "<path fill=\"none\" stroke=\"#000000\" d=\"M1563.9304,-103.9815C1583.7078,-93.7724 1604.807,-82.8809 1624.3256,-72.8053\"/>\n",
       "<polygon fill=\"#000000\" stroke=\"#000000\" points=\"1626.1882,-75.7827 1633.4687,-68.0856 1622.9773,-69.5626 1626.1882,-75.7827\"/>\n",
       "</g>\n",
       "<!-- 23 -->\n",
       "<g id=\"node24\" class=\"node\">\n",
       "<title>23</title>\n",
       "<polygon fill=\"none\" stroke=\"#000000\" points=\"2577,-425 2380,-425 2380,-342 2577,-342 2577,-425\"/>\n",
       "<text text-anchor=\"middle\" x=\"2478.5\" y=\"-409.8\" font-family=\"Times,serif\" font-size=\"14.00\" fill=\"#000000\">gname_Southern Front &lt;= 0.5</text>\n",
       "<text text-anchor=\"middle\" x=\"2478.5\" y=\"-394.8\" font-family=\"Times,serif\" font-size=\"14.00\" fill=\"#000000\">gini = 0.201</text>\n",
       "<text text-anchor=\"middle\" x=\"2478.5\" y=\"-379.8\" font-family=\"Times,serif\" font-size=\"14.00\" fill=\"#000000\">samples = 871</text>\n",
       "<text text-anchor=\"middle\" x=\"2478.5\" y=\"-364.8\" font-family=\"Times,serif\" font-size=\"14.00\" fill=\"#000000\">value = [52, 12, 776, 0, 1, 30, 0]</text>\n",
       "<text text-anchor=\"middle\" x=\"2478.5\" y=\"-349.8\" font-family=\"Times,serif\" font-size=\"14.00\" fill=\"#000000\">class = Bombing/Explosion</text>\n",
       "</g>\n",
       "<!-- 22&#45;&gt;23 -->\n",
       "<g id=\"edge23\" class=\"edge\">\n",
       "<title>22&#45;&gt;23</title>\n",
       "<path fill=\"none\" stroke=\"#000000\" d=\"M2478.5,-460.8796C2478.5,-452.6838 2478.5,-443.9891 2478.5,-435.5013\"/>\n",
       "<polygon fill=\"#000000\" stroke=\"#000000\" points=\"2482.0001,-435.298 2478.5,-425.2981 2475.0001,-435.2981 2482.0001,-435.298\"/>\n",
       "</g>\n",
       "<!-- 38 -->\n",
       "<g id=\"node39\" class=\"node\">\n",
       "<title>38</title>\n",
       "<polygon fill=\"none\" stroke=\"#000000\" points=\"2996.5,-425 2702.5,-425 2702.5,-342 2996.5,-342 2996.5,-425\"/>\n",
       "<text text-anchor=\"middle\" x=\"2849.5\" y=\"-409.8\" font-family=\"Times,serif\" font-size=\"14.00\" fill=\"#000000\">targtype1_txt_Private Citizens &amp; Property &lt;= 0.5</text>\n",
       "<text text-anchor=\"middle\" x=\"2849.5\" y=\"-394.8\" font-family=\"Times,serif\" font-size=\"14.00\" fill=\"#000000\">gini = 0.375</text>\n",
       "<text text-anchor=\"middle\" x=\"2849.5\" y=\"-379.8\" font-family=\"Times,serif\" font-size=\"14.00\" fill=\"#000000\">samples = 8</text>\n",
       "<text text-anchor=\"middle\" x=\"2849.5\" y=\"-364.8\" font-family=\"Times,serif\" font-size=\"14.00\" fill=\"#000000\">value = [6, 0, 2, 0, 0, 0, 0]</text>\n",
       "<text text-anchor=\"middle\" x=\"2849.5\" y=\"-349.8\" font-family=\"Times,serif\" font-size=\"14.00\" fill=\"#000000\">class = Armed Assault</text>\n",
       "</g>\n",
       "<!-- 22&#45;&gt;38 -->\n",
       "<g id=\"edge38\" class=\"edge\">\n",
       "<title>22&#45;&gt;38</title>\n",
       "<path fill=\"none\" stroke=\"#000000\" d=\"M2607.9973,-460.9631C2641.0072,-450.3751 2676.6278,-438.9496 2710.1088,-428.2104\"/>\n",
       "<polygon fill=\"#000000\" stroke=\"#000000\" points=\"2711.5035,-431.4387 2719.9566,-425.0516 2709.3655,-424.7732 2711.5035,-431.4387\"/>\n",
       "</g>\n",
       "<!-- 24 -->\n",
       "<g id=\"node25\" class=\"node\">\n",
       "<title>24</title>\n",
       "<polygon fill=\"none\" stroke=\"#000000\" points=\"2471,-306 2274,-306 2274,-223 2471,-223 2471,-306\"/>\n",
       "<text text-anchor=\"middle\" x=\"2372.5\" y=\"-290.8\" font-family=\"Times,serif\" font-size=\"14.00\" fill=\"#000000\">city_Deir ez&#45;Zor &lt;= 0.5</text>\n",
       "<text text-anchor=\"middle\" x=\"2372.5\" y=\"-275.8\" font-family=\"Times,serif\" font-size=\"14.00\" fill=\"#000000\">gini = 0.189</text>\n",
       "<text text-anchor=\"middle\" x=\"2372.5\" y=\"-260.8\" font-family=\"Times,serif\" font-size=\"14.00\" fill=\"#000000\">samples = 847</text>\n",
       "<text text-anchor=\"middle\" x=\"2372.5\" y=\"-245.8\" font-family=\"Times,serif\" font-size=\"14.00\" fill=\"#000000\">value = [43, 12, 761, 0, 1, 30, 0]</text>\n",
       "<text text-anchor=\"middle\" x=\"2372.5\" y=\"-230.8\" font-family=\"Times,serif\" font-size=\"14.00\" fill=\"#000000\">class = Bombing/Explosion</text>\n",
       "</g>\n",
       "<!-- 23&#45;&gt;24 -->\n",
       "<g id=\"edge24\" class=\"edge\">\n",
       "<title>23&#45;&gt;24</title>\n",
       "<path fill=\"none\" stroke=\"#000000\" d=\"M2441.4263,-341.8796C2433.4039,-332.8733 2424.8448,-323.2644 2416.5833,-313.9897\"/>\n",
       "<polygon fill=\"#000000\" stroke=\"#000000\" points=\"2418.9969,-311.4373 2409.7319,-306.2981 2413.7698,-316.0933 2418.9969,-311.4373\"/>\n",
       "</g>\n",
       "<!-- 31 -->\n",
       "<g id=\"node32\" class=\"node\">\n",
       "<title>31</title>\n",
       "<polygon fill=\"none\" stroke=\"#000000\" points=\"2745.5,-306 2561.5,-306 2561.5,-223 2745.5,-223 2745.5,-306\"/>\n",
       "<text text-anchor=\"middle\" x=\"2653.5\" y=\"-290.8\" font-family=\"Times,serif\" font-size=\"14.00\" fill=\"#000000\">targtype1_txt_Military &lt;= 0.5</text>\n",
       "<text text-anchor=\"middle\" x=\"2653.5\" y=\"-275.8\" font-family=\"Times,serif\" font-size=\"14.00\" fill=\"#000000\">gini = 0.469</text>\n",
       "<text text-anchor=\"middle\" x=\"2653.5\" y=\"-260.8\" font-family=\"Times,serif\" font-size=\"14.00\" fill=\"#000000\">samples = 24</text>\n",
       "<text text-anchor=\"middle\" x=\"2653.5\" y=\"-245.8\" font-family=\"Times,serif\" font-size=\"14.00\" fill=\"#000000\">value = [9, 0, 15, 0, 0, 0, 0]</text>\n",
       "<text text-anchor=\"middle\" x=\"2653.5\" y=\"-230.8\" font-family=\"Times,serif\" font-size=\"14.00\" fill=\"#000000\">class = Bombing/Explosion</text>\n",
       "</g>\n",
       "<!-- 23&#45;&gt;31 -->\n",
       "<g id=\"edge31\" class=\"edge\">\n",
       "<title>23&#45;&gt;31</title>\n",
       "<path fill=\"none\" stroke=\"#000000\" d=\"M2539.7065,-341.8796C2553.9606,-332.1868 2569.241,-321.7961 2583.8307,-311.8752\"/>\n",
       "<polygon fill=\"#000000\" stroke=\"#000000\" points=\"2586.0269,-314.6143 2592.3281,-306.0969 2582.0907,-308.8258 2586.0269,-314.6143\"/>\n",
       "</g>\n",
       "<!-- 25 -->\n",
       "<g id=\"node26\" class=\"node\">\n",
       "<title>25</title>\n",
       "<polygon fill=\"none\" stroke=\"#000000\" points=\"2226,-187 2029,-187 2029,-104 2226,-104 2226,-187\"/>\n",
       "<text text-anchor=\"middle\" x=\"2127.5\" y=\"-171.8\" font-family=\"Times,serif\" font-size=\"14.00\" fill=\"#000000\">city_Kinsibba &lt;= 0.5</text>\n",
       "<text text-anchor=\"middle\" x=\"2127.5\" y=\"-156.8\" font-family=\"Times,serif\" font-size=\"14.00\" fill=\"#000000\">gini = 0.174</text>\n",
       "<text text-anchor=\"middle\" x=\"2127.5\" y=\"-141.8\" font-family=\"Times,serif\" font-size=\"14.00\" fill=\"#000000\">samples = 814</text>\n",
       "<text text-anchor=\"middle\" x=\"2127.5\" y=\"-126.8\" font-family=\"Times,serif\" font-size=\"14.00\" fill=\"#000000\">value = [43, 12, 738, 0, 1, 20, 0]</text>\n",
       "<text text-anchor=\"middle\" x=\"2127.5\" y=\"-111.8\" font-family=\"Times,serif\" font-size=\"14.00\" fill=\"#000000\">class = Bombing/Explosion</text>\n",
       "</g>\n",
       "<!-- 24&#45;&gt;25 -->\n",
       "<g id=\"edge25\" class=\"edge\">\n",
       "<title>24&#45;&gt;25</title>\n",
       "<path fill=\"none\" stroke=\"#000000\" d=\"M2286.8109,-222.8796C2265.9226,-212.7339 2243.4602,-201.8235 2222.1803,-191.4876\"/>\n",
       "<polygon fill=\"#000000\" stroke=\"#000000\" points=\"2223.665,-188.3177 2213.1407,-187.0969 2220.6066,-194.6143 2223.665,-188.3177\"/>\n",
       "</g>\n",
       "<!-- 28 -->\n",
       "<g id=\"node29\" class=\"node\">\n",
       "<title>28</title>\n",
       "<polygon fill=\"none\" stroke=\"#000000\" points=\"2464.5,-187 2280.5,-187 2280.5,-104 2464.5,-104 2464.5,-187\"/>\n",
       "<text text-anchor=\"middle\" x=\"2372.5\" y=\"-171.8\" font-family=\"Times,serif\" font-size=\"14.00\" fill=\"#000000\">targtype1_txt_Military &lt;= 0.5</text>\n",
       "<text text-anchor=\"middle\" x=\"2372.5\" y=\"-156.8\" font-family=\"Times,serif\" font-size=\"14.00\" fill=\"#000000\">gini = 0.422</text>\n",
       "<text text-anchor=\"middle\" x=\"2372.5\" y=\"-141.8\" font-family=\"Times,serif\" font-size=\"14.00\" fill=\"#000000\">samples = 33</text>\n",
       "<text text-anchor=\"middle\" x=\"2372.5\" y=\"-126.8\" font-family=\"Times,serif\" font-size=\"14.00\" fill=\"#000000\">value = [0, 0, 23, 0, 0, 10, 0]</text>\n",
       "<text text-anchor=\"middle\" x=\"2372.5\" y=\"-111.8\" font-family=\"Times,serif\" font-size=\"14.00\" fill=\"#000000\">class = Bombing/Explosion</text>\n",
       "</g>\n",
       "<!-- 24&#45;&gt;28 -->\n",
       "<g id=\"edge28\" class=\"edge\">\n",
       "<title>24&#45;&gt;28</title>\n",
       "<path fill=\"none\" stroke=\"#000000\" d=\"M2372.5,-222.8796C2372.5,-214.6838 2372.5,-205.9891 2372.5,-197.5013\"/>\n",
       "<polygon fill=\"#000000\" stroke=\"#000000\" points=\"2376.0001,-197.298 2372.5,-187.2981 2369.0001,-197.2981 2376.0001,-197.298\"/>\n",
       "</g>\n",
       "<!-- 26 -->\n",
       "<g id=\"node27\" class=\"node\">\n",
       "<title>26</title>\n",
       "<polygon fill=\"none\" stroke=\"#000000\" points=\"2028,-68 1831,-68 1831,0 2028,0 2028,-68\"/>\n",
       "<text text-anchor=\"middle\" x=\"1929.5\" y=\"-52.8\" font-family=\"Times,serif\" font-size=\"14.00\" fill=\"#000000\">gini = 0.169</text>\n",
       "<text text-anchor=\"middle\" x=\"1929.5\" y=\"-37.8\" font-family=\"Times,serif\" font-size=\"14.00\" fill=\"#000000\">samples = 810</text>\n",
       "<text text-anchor=\"middle\" x=\"1929.5\" y=\"-22.8\" font-family=\"Times,serif\" font-size=\"14.00\" fill=\"#000000\">value = [40, 12, 737, 0, 1, 20, 0]</text>\n",
       "<text text-anchor=\"middle\" x=\"1929.5\" y=\"-7.8\" font-family=\"Times,serif\" font-size=\"14.00\" fill=\"#000000\">class = Bombing/Explosion</text>\n",
       "</g>\n",
       "<!-- 25&#45;&gt;26 -->\n",
       "<g id=\"edge26\" class=\"edge\">\n",
       "<title>25&#45;&gt;26</title>\n",
       "<path fill=\"none\" stroke=\"#000000\" d=\"M2053.7721,-103.9815C2035.889,-93.911 2016.8268,-83.1764 1999.1393,-73.2161\"/>\n",
       "<polygon fill=\"#000000\" stroke=\"#000000\" points=\"2000.4595,-69.9428 1990.0287,-68.0856 1997.0248,-76.0422 2000.4595,-69.9428\"/>\n",
       "</g>\n",
       "<!-- 27 -->\n",
       "<g id=\"node28\" class=\"node\">\n",
       "<title>27</title>\n",
       "<polygon fill=\"none\" stroke=\"#000000\" points=\"2208.5,-68 2046.5,-68 2046.5,0 2208.5,0 2208.5,-68\"/>\n",
       "<text text-anchor=\"middle\" x=\"2127.5\" y=\"-52.8\" font-family=\"Times,serif\" font-size=\"14.00\" fill=\"#000000\">gini = 0.375</text>\n",
       "<text text-anchor=\"middle\" x=\"2127.5\" y=\"-37.8\" font-family=\"Times,serif\" font-size=\"14.00\" fill=\"#000000\">samples = 4</text>\n",
       "<text text-anchor=\"middle\" x=\"2127.5\" y=\"-22.8\" font-family=\"Times,serif\" font-size=\"14.00\" fill=\"#000000\">value = [3, 0, 1, 0, 0, 0, 0]</text>\n",
       "<text text-anchor=\"middle\" x=\"2127.5\" y=\"-7.8\" font-family=\"Times,serif\" font-size=\"14.00\" fill=\"#000000\">class = Armed Assault</text>\n",
       "</g>\n",
       "<!-- 25&#45;&gt;27 -->\n",
       "<g id=\"edge27\" class=\"edge\">\n",
       "<title>25&#45;&gt;27</title>\n",
       "<path fill=\"none\" stroke=\"#000000\" d=\"M2127.5,-103.9815C2127.5,-95.618 2127.5,-86.7965 2127.5,-78.3409\"/>\n",
       "<polygon fill=\"#000000\" stroke=\"#000000\" points=\"2131.0001,-78.2636 2127.5,-68.2637 2124.0001,-78.2637 2131.0001,-78.2636\"/>\n",
       "</g>\n",
       "<!-- 29 -->\n",
       "<g id=\"node30\" class=\"node\">\n",
       "<title>29</title>\n",
       "<polygon fill=\"none\" stroke=\"#000000\" points=\"2398,-68 2227,-68 2227,0 2398,0 2398,-68\"/>\n",
       "<text text-anchor=\"middle\" x=\"2312.5\" y=\"-52.8\" font-family=\"Times,serif\" font-size=\"14.00\" fill=\"#000000\">gini = 0.231</text>\n",
       "<text text-anchor=\"middle\" x=\"2312.5\" y=\"-37.8\" font-family=\"Times,serif\" font-size=\"14.00\" fill=\"#000000\">samples = 15</text>\n",
       "<text text-anchor=\"middle\" x=\"2312.5\" y=\"-22.8\" font-family=\"Times,serif\" font-size=\"14.00\" fill=\"#000000\">value = [0, 0, 13, 0, 0, 2, 0]</text>\n",
       "<text text-anchor=\"middle\" x=\"2312.5\" y=\"-7.8\" font-family=\"Times,serif\" font-size=\"14.00\" fill=\"#000000\">class = Bombing/Explosion</text>\n",
       "</g>\n",
       "<!-- 28&#45;&gt;29 -->\n",
       "<g id=\"edge29\" class=\"edge\">\n",
       "<title>28&#45;&gt;29</title>\n",
       "<path fill=\"none\" stroke=\"#000000\" d=\"M2350.1582,-103.9815C2345.4598,-95.2504 2340.4929,-86.0202 2335.7617,-77.2281\"/>\n",
       "<polygon fill=\"#000000\" stroke=\"#000000\" points=\"2338.7586,-75.4111 2330.9379,-68.2637 2332.5944,-78.7282 2338.7586,-75.4111\"/>\n",
       "</g>\n",
       "<!-- 30 -->\n",
       "<g id=\"node31\" class=\"node\">\n",
       "<title>30</title>\n",
       "<polygon fill=\"none\" stroke=\"#000000\" points=\"2587,-68 2416,-68 2416,0 2587,0 2587,-68\"/>\n",
       "<text text-anchor=\"middle\" x=\"2501.5\" y=\"-52.8\" font-family=\"Times,serif\" font-size=\"14.00\" fill=\"#000000\">gini = 0.494</text>\n",
       "<text text-anchor=\"middle\" x=\"2501.5\" y=\"-37.8\" font-family=\"Times,serif\" font-size=\"14.00\" fill=\"#000000\">samples = 18</text>\n",
       "<text text-anchor=\"middle\" x=\"2501.5\" y=\"-22.8\" font-family=\"Times,serif\" font-size=\"14.00\" fill=\"#000000\">value = [0, 0, 10, 0, 0, 8, 0]</text>\n",
       "<text text-anchor=\"middle\" x=\"2501.5\" y=\"-7.8\" font-family=\"Times,serif\" font-size=\"14.00\" fill=\"#000000\">class = Bombing/Explosion</text>\n",
       "</g>\n",
       "<!-- 28&#45;&gt;30 -->\n",
       "<g id=\"edge30\" class=\"edge\">\n",
       "<title>28&#45;&gt;30</title>\n",
       "<path fill=\"none\" stroke=\"#000000\" d=\"M2420.5348,-103.9815C2431.487,-94.5151 2443.1179,-84.462 2454.0456,-75.0168\"/>\n",
       "<polygon fill=\"#000000\" stroke=\"#000000\" points=\"2456.5818,-77.4509 2461.8586,-68.2637 2452.0043,-72.155 2456.5818,-77.4509\"/>\n",
       "</g>\n",
       "<!-- 32 -->\n",
       "<g id=\"node33\" class=\"node\">\n",
       "<title>32</title>\n",
       "<polygon fill=\"none\" stroke=\"#000000\" points=\"2776,-187 2605,-187 2605,-104 2776,-104 2776,-187\"/>\n",
       "<text text-anchor=\"middle\" x=\"2690.5\" y=\"-171.8\" font-family=\"Times,serif\" font-size=\"14.00\" fill=\"#000000\">city_Aleppo &lt;= 0.5</text>\n",
       "<text text-anchor=\"middle\" x=\"2690.5\" y=\"-156.8\" font-family=\"Times,serif\" font-size=\"14.00\" fill=\"#000000\">gini = 0.298</text>\n",
       "<text text-anchor=\"middle\" x=\"2690.5\" y=\"-141.8\" font-family=\"Times,serif\" font-size=\"14.00\" fill=\"#000000\">samples = 11</text>\n",
       "<text text-anchor=\"middle\" x=\"2690.5\" y=\"-126.8\" font-family=\"Times,serif\" font-size=\"14.00\" fill=\"#000000\">value = [2, 0, 9, 0, 0, 0, 0]</text>\n",
       "<text text-anchor=\"middle\" x=\"2690.5\" y=\"-111.8\" font-family=\"Times,serif\" font-size=\"14.00\" fill=\"#000000\">class = Bombing/Explosion</text>\n",
       "</g>\n",
       "<!-- 31&#45;&gt;32 -->\n",
       "<g id=\"edge32\" class=\"edge\">\n",
       "<title>31&#45;&gt;32</title>\n",
       "<path fill=\"none\" stroke=\"#000000\" d=\"M2666.4408,-222.8796C2669.0451,-214.5037 2671.8114,-205.6067 2674.5054,-196.942\"/>\n",
       "<polygon fill=\"#000000\" stroke=\"#000000\" points=\"2677.877,-197.8863 2677.504,-187.2981 2671.1927,-195.808 2677.877,-197.8863\"/>\n",
       "</g>\n",
       "<!-- 35 -->\n",
       "<g id=\"node36\" class=\"node\">\n",
       "<title>35</title>\n",
       "<polygon fill=\"none\" stroke=\"#000000\" points=\"3163,-187 2958,-187 2958,-104 3163,-104 3163,-187\"/>\n",
       "<text text-anchor=\"middle\" x=\"3060.5\" y=\"-171.8\" font-family=\"Times,serif\" font-size=\"14.00\" fill=\"#000000\">day_of_the_week_Sunday &lt;= 0.5</text>\n",
       "<text text-anchor=\"middle\" x=\"3060.5\" y=\"-156.8\" font-family=\"Times,serif\" font-size=\"14.00\" fill=\"#000000\">gini = 0.497</text>\n",
       "<text text-anchor=\"middle\" x=\"3060.5\" y=\"-141.8\" font-family=\"Times,serif\" font-size=\"14.00\" fill=\"#000000\">samples = 13</text>\n",
       "<text text-anchor=\"middle\" x=\"3060.5\" y=\"-126.8\" font-family=\"Times,serif\" font-size=\"14.00\" fill=\"#000000\">value = [7, 0, 6, 0, 0, 0, 0]</text>\n",
       "<text text-anchor=\"middle\" x=\"3060.5\" y=\"-111.8\" font-family=\"Times,serif\" font-size=\"14.00\" fill=\"#000000\">class = Armed Assault</text>\n",
       "</g>\n",
       "<!-- 31&#45;&gt;35 -->\n",
       "<g id=\"edge35\" class=\"edge\">\n",
       "<title>31&#45;&gt;35</title>\n",
       "<path fill=\"none\" stroke=\"#000000\" d=\"M2745.7715,-225.9739C2748.7051,-224.9455 2751.6198,-223.9511 2754.5,-223 2817.5893,-202.1659 2889.552,-183.6835 2947.8339,-169.998\"/>\n",
       "<polygon fill=\"#000000\" stroke=\"#000000\" points=\"2948.8639,-173.3518 2957.8073,-167.6715 2947.2736,-166.5348 2948.8639,-173.3518\"/>\n",
       "</g>\n",
       "<!-- 33 -->\n",
       "<g id=\"node34\" class=\"node\">\n",
       "<title>33</title>\n",
       "<polygon fill=\"none\" stroke=\"#000000\" points=\"2776,-68 2605,-68 2605,0 2776,0 2776,-68\"/>\n",
       "<text text-anchor=\"middle\" x=\"2690.5\" y=\"-52.8\" font-family=\"Times,serif\" font-size=\"14.00\" fill=\"#000000\">gini = 0.0</text>\n",
       "<text text-anchor=\"middle\" x=\"2690.5\" y=\"-37.8\" font-family=\"Times,serif\" font-size=\"14.00\" fill=\"#000000\">samples = 8</text>\n",
       "<text text-anchor=\"middle\" x=\"2690.5\" y=\"-22.8\" font-family=\"Times,serif\" font-size=\"14.00\" fill=\"#000000\">value = [0, 0, 8, 0, 0, 0, 0]</text>\n",
       "<text text-anchor=\"middle\" x=\"2690.5\" y=\"-7.8\" font-family=\"Times,serif\" font-size=\"14.00\" fill=\"#000000\">class = Bombing/Explosion</text>\n",
       "</g>\n",
       "<!-- 32&#45;&gt;33 -->\n",
       "<g id=\"edge33\" class=\"edge\">\n",
       "<title>32&#45;&gt;33</title>\n",
       "<path fill=\"none\" stroke=\"#000000\" d=\"M2690.5,-103.9815C2690.5,-95.618 2690.5,-86.7965 2690.5,-78.3409\"/>\n",
       "<polygon fill=\"#000000\" stroke=\"#000000\" points=\"2694.0001,-78.2636 2690.5,-68.2637 2687.0001,-78.2637 2694.0001,-78.2636\"/>\n",
       "</g>\n",
       "<!-- 34 -->\n",
       "<g id=\"node35\" class=\"node\">\n",
       "<title>34</title>\n",
       "<polygon fill=\"none\" stroke=\"#000000\" points=\"2956.5,-68 2794.5,-68 2794.5,0 2956.5,0 2956.5,-68\"/>\n",
       "<text text-anchor=\"middle\" x=\"2875.5\" y=\"-52.8\" font-family=\"Times,serif\" font-size=\"14.00\" fill=\"#000000\">gini = 0.444</text>\n",
       "<text text-anchor=\"middle\" x=\"2875.5\" y=\"-37.8\" font-family=\"Times,serif\" font-size=\"14.00\" fill=\"#000000\">samples = 3</text>\n",
       "<text text-anchor=\"middle\" x=\"2875.5\" y=\"-22.8\" font-family=\"Times,serif\" font-size=\"14.00\" fill=\"#000000\">value = [2, 0, 1, 0, 0, 0, 0]</text>\n",
       "<text text-anchor=\"middle\" x=\"2875.5\" y=\"-7.8\" font-family=\"Times,serif\" font-size=\"14.00\" fill=\"#000000\">class = Armed Assault</text>\n",
       "</g>\n",
       "<!-- 32&#45;&gt;34 -->\n",
       "<g id=\"edge34\" class=\"edge\">\n",
       "<title>32&#45;&gt;34</title>\n",
       "<path fill=\"none\" stroke=\"#000000\" d=\"M2759.3872,-103.9815C2775.9429,-94.0034 2793.5801,-83.3733 2809.9778,-73.4904\"/>\n",
       "<polygon fill=\"#000000\" stroke=\"#000000\" points=\"2812.1874,-76.2453 2818.9454,-68.0856 2808.574,-70.25 2812.1874,-76.2453\"/>\n",
       "</g>\n",
       "<!-- 36 -->\n",
       "<g id=\"node37\" class=\"node\">\n",
       "<title>36</title>\n",
       "<polygon fill=\"none\" stroke=\"#000000\" points=\"3146,-68 2975,-68 2975,0 3146,0 3146,-68\"/>\n",
       "<text text-anchor=\"middle\" x=\"3060.5\" y=\"-52.8\" font-family=\"Times,serif\" font-size=\"14.00\" fill=\"#000000\">gini = 0.469</text>\n",
       "<text text-anchor=\"middle\" x=\"3060.5\" y=\"-37.8\" font-family=\"Times,serif\" font-size=\"14.00\" fill=\"#000000\">samples = 8</text>\n",
       "<text text-anchor=\"middle\" x=\"3060.5\" y=\"-22.8\" font-family=\"Times,serif\" font-size=\"14.00\" fill=\"#000000\">value = [3, 0, 5, 0, 0, 0, 0]</text>\n",
       "<text text-anchor=\"middle\" x=\"3060.5\" y=\"-7.8\" font-family=\"Times,serif\" font-size=\"14.00\" fill=\"#000000\">class = Bombing/Explosion</text>\n",
       "</g>\n",
       "<!-- 35&#45;&gt;36 -->\n",
       "<g id=\"edge36\" class=\"edge\">\n",
       "<title>35&#45;&gt;36</title>\n",
       "<path fill=\"none\" stroke=\"#000000\" d=\"M3060.5,-103.9815C3060.5,-95.618 3060.5,-86.7965 3060.5,-78.3409\"/>\n",
       "<polygon fill=\"#000000\" stroke=\"#000000\" points=\"3064.0001,-78.2636 3060.5,-68.2637 3057.0001,-78.2637 3064.0001,-78.2636\"/>\n",
       "</g>\n",
       "<!-- 37 -->\n",
       "<g id=\"node38\" class=\"node\">\n",
       "<title>37</title>\n",
       "<polygon fill=\"none\" stroke=\"#000000\" points=\"3326.5,-68 3164.5,-68 3164.5,0 3326.5,0 3326.5,-68\"/>\n",
       "<text text-anchor=\"middle\" x=\"3245.5\" y=\"-52.8\" font-family=\"Times,serif\" font-size=\"14.00\" fill=\"#000000\">gini = 0.32</text>\n",
       "<text text-anchor=\"middle\" x=\"3245.5\" y=\"-37.8\" font-family=\"Times,serif\" font-size=\"14.00\" fill=\"#000000\">samples = 5</text>\n",
       "<text text-anchor=\"middle\" x=\"3245.5\" y=\"-22.8\" font-family=\"Times,serif\" font-size=\"14.00\" fill=\"#000000\">value = [4, 0, 1, 0, 0, 0, 0]</text>\n",
       "<text text-anchor=\"middle\" x=\"3245.5\" y=\"-7.8\" font-family=\"Times,serif\" font-size=\"14.00\" fill=\"#000000\">class = Armed Assault</text>\n",
       "</g>\n",
       "<!-- 35&#45;&gt;37 -->\n",
       "<g id=\"edge37\" class=\"edge\">\n",
       "<title>35&#45;&gt;37</title>\n",
       "<path fill=\"none\" stroke=\"#000000\" d=\"M3129.3872,-103.9815C3145.9429,-94.0034 3163.5801,-83.3733 3179.9778,-73.4904\"/>\n",
       "<polygon fill=\"#000000\" stroke=\"#000000\" points=\"3182.1874,-76.2453 3188.9454,-68.0856 3178.574,-70.25 3182.1874,-76.2453\"/>\n",
       "</g>\n",
       "<!-- 39 -->\n",
       "<g id=\"node40\" class=\"node\">\n",
       "<title>39</title>\n",
       "<polygon fill=\"none\" stroke=\"#000000\" points=\"2935,-298.5 2764,-298.5 2764,-230.5 2935,-230.5 2935,-298.5\"/>\n",
       "<text text-anchor=\"middle\" x=\"2849.5\" y=\"-283.3\" font-family=\"Times,serif\" font-size=\"14.00\" fill=\"#000000\">gini = 0.0</text>\n",
       "<text text-anchor=\"middle\" x=\"2849.5\" y=\"-268.3\" font-family=\"Times,serif\" font-size=\"14.00\" fill=\"#000000\">samples = 2</text>\n",
       "<text text-anchor=\"middle\" x=\"2849.5\" y=\"-253.3\" font-family=\"Times,serif\" font-size=\"14.00\" fill=\"#000000\">value = [0, 0, 2, 0, 0, 0, 0]</text>\n",
       "<text text-anchor=\"middle\" x=\"2849.5\" y=\"-238.3\" font-family=\"Times,serif\" font-size=\"14.00\" fill=\"#000000\">class = Bombing/Explosion</text>\n",
       "</g>\n",
       "<!-- 38&#45;&gt;39 -->\n",
       "<g id=\"edge39\" class=\"edge\">\n",
       "<title>38&#45;&gt;39</title>\n",
       "<path fill=\"none\" stroke=\"#000000\" d=\"M2849.5,-341.8796C2849.5,-331.2134 2849.5,-319.7021 2849.5,-308.9015\"/>\n",
       "<polygon fill=\"#000000\" stroke=\"#000000\" points=\"2853.0001,-308.8149 2849.5,-298.8149 2846.0001,-308.815 2853.0001,-308.8149\"/>\n",
       "</g>\n",
       "<!-- 40 -->\n",
       "<g id=\"node41\" class=\"node\">\n",
       "<title>40</title>\n",
       "<polygon fill=\"none\" stroke=\"#000000\" points=\"3115.5,-298.5 2953.5,-298.5 2953.5,-230.5 3115.5,-230.5 3115.5,-298.5\"/>\n",
       "<text text-anchor=\"middle\" x=\"3034.5\" y=\"-283.3\" font-family=\"Times,serif\" font-size=\"14.00\" fill=\"#000000\">gini = 0.0</text>\n",
       "<text text-anchor=\"middle\" x=\"3034.5\" y=\"-268.3\" font-family=\"Times,serif\" font-size=\"14.00\" fill=\"#000000\">samples = 6</text>\n",
       "<text text-anchor=\"middle\" x=\"3034.5\" y=\"-253.3\" font-family=\"Times,serif\" font-size=\"14.00\" fill=\"#000000\">value = [6, 0, 0, 0, 0, 0, 0]</text>\n",
       "<text text-anchor=\"middle\" x=\"3034.5\" y=\"-238.3\" font-family=\"Times,serif\" font-size=\"14.00\" fill=\"#000000\">class = Armed Assault</text>\n",
       "</g>\n",
       "<!-- 38&#45;&gt;40 -->\n",
       "<g id=\"edge40\" class=\"edge\">\n",
       "<title>38&#45;&gt;40</title>\n",
       "<path fill=\"none\" stroke=\"#000000\" d=\"M2914.204,-341.8796C2933.2696,-329.6158 2954.0719,-316.2348 2972.9346,-304.1015\"/>\n",
       "<polygon fill=\"#000000\" stroke=\"#000000\" points=\"2974.9347,-306.9766 2981.4516,-298.623 2971.1478,-301.0893 2974.9347,-306.9766\"/>\n",
       "</g>\n",
       "</g>\n",
       "</svg>\n"
      ],
      "text/plain": [
       "<graphviz.files.Source at 0x7fc0775eddd8>"
      ]
     },
     "execution_count": 49,
     "metadata": {},
     "output_type": "execute_result"
    }
   ],
   "source": [
    "figure = tree.export_graphviz(dtc, out_file=None,\n",
    "                               feature_names=X.columns,\n",
    "                               class_names=['Armed Assault', 'Assassination', 'Bombing/Explosion', 'Facility/Infrastructure Attack', 'Hostage Taking (Barricade Incident)', 'Hostage Taking (Kidnapping)', 'Unarmed Assault'])\n",
    "graph = graphviz.Source(figure)\n",
    "graph.render(\"Decision Tree - Attack Type - Tree\")\n",
    "graph"
   ]
  },
  {
   "cell_type": "code",
   "execution_count": 50,
   "metadata": {},
   "outputs": [
    {
     "data": {
      "image/png": "[encoded data removed]",
      "text/plain": [
       "<Figure size 432x288 with 1 Axes>"
      ]
     },
     "metadata": {
      "needs_background": "light"
     },
     "output_type": "display_data"
    }
   ],
   "source": [
    "var_imp = pd.DataFrame({'Variable': X.columns, \n",
    "                        'Importance': dtc.feature_importances_})\n",
    "var_imp = var_imp.sort_values(by='Importance')\n",
    "\n",
    "plt.barh(var_imp[var_imp.Importance > 0.01]['Variable'], var_imp[var_imp.Importance > 0.01]['Importance'])\n",
    "plt.xlabel('Proportion')\n",
    "plt.ylabel('Variable')\n",
    "plt.title('Variable Importance')\n",
    "plt.show()"
   ]
  }
 ],
 "metadata": {
  "kernelspec": {
   "display_name": "Python 3",
   "language": "python",
   "name": "python3"
  },
  "language_info": {
   "codemirror_mode": {
    "name": "ipython",
    "version": 3
   },
   "file_extension": ".py",
   "mimetype": "text/x-python",
   "name": "python",
   "nbconvert_exporter": "python",
   "pygments_lexer": "ipython3",
   "version": "3.7.3"
  }
 },
 "nbformat": 4,
 "nbformat_minor": 4
}
